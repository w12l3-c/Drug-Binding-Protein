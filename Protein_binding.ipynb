{
  "cells": [
    {
      "cell_type": "markdown",
      "metadata": {
        "id": "view-in-github",
        "colab_type": "text"
      },
      "source": [
        "<a href=\"https://colab.research.google.com/github/w12l3-c/Drug-Binding-Protein/blob/main/Protein_binding.ipynb\" target=\"_parent\"><img src=\"https://colab.research.google.com/assets/colab-badge.svg\" alt=\"Open In Colab\"/></a>"
      ]
    },
    {
      "cell_type": "markdown",
      "source": [
        "# Conclusion\n",
        "<strong>**LCBM with Class weights is the best**</strong>\n",
        "\n",
        "<sup>Undersampling and oversampling doesn't do as well</sup>"
      ],
      "metadata": {
        "id": "xQGJzTttqsPU"
      },
      "id": "xQGJzTttqsPU"
    },
    {
      "cell_type": "markdown",
      "source": [
        "# Google Drive"
      ],
      "metadata": {
        "id": "K6Z54f4_kLfD"
      },
      "id": "K6Z54f4_kLfD"
    },
    {
      "cell_type": "code",
      "source": [
        "from google.colab import drive\n",
        "drive.mount('/content/drive')"
      ],
      "metadata": {
        "colab": {
          "base_uri": "https://localhost:8080/"
        },
        "id": "AlaWk0UkaqI0",
        "outputId": "bd7f3b52-fef5-4312-d10b-5071371b3f90"
      },
      "id": "AlaWk0UkaqI0",
      "execution_count": null,
      "outputs": [
        {
          "output_type": "stream",
          "name": "stdout",
          "text": [
            "Mounted at /content/drive\n"
          ]
        }
      ]
    },
    {
      "cell_type": "markdown",
      "source": [
        "# Libraries"
      ],
      "metadata": {
        "id": "Un-dIMRYsUqg"
      },
      "id": "Un-dIMRYsUqg"
    },
    {
      "cell_type": "code",
      "source": [
        "!pip install imbalanced-learn\n",
        "import numpy as np\n",
        "import seaborn as sb\n",
        "import sklearn as sk\n",
        "import matplotlib.pyplot as plt\n",
        "import imblearn"
      ],
      "metadata": {
        "id": "rLCW9H6QsXYd",
        "colab": {
          "base_uri": "https://localhost:8080/"
        },
        "outputId": "cc4d12bd-9475-425a-8b17-9fc58557defd"
      },
      "id": "rLCW9H6QsXYd",
      "execution_count": null,
      "outputs": [
        {
          "output_type": "stream",
          "name": "stdout",
          "text": [
            "Looking in indexes: https://pypi.org/simple, https://us-python.pkg.dev/colab-wheels/public/simple/\n",
            "Requirement already satisfied: imbalanced-learn in /usr/local/lib/python3.8/dist-packages (0.8.1)\n",
            "Requirement already satisfied: scikit-learn>=0.24 in /usr/local/lib/python3.8/dist-packages (from imbalanced-learn) (1.0.2)\n",
            "Requirement already satisfied: joblib>=0.11 in /usr/local/lib/python3.8/dist-packages (from imbalanced-learn) (1.2.0)\n",
            "Requirement already satisfied: scipy>=0.19.1 in /usr/local/lib/python3.8/dist-packages (from imbalanced-learn) (1.7.3)\n",
            "Requirement already satisfied: numpy>=1.13.3 in /usr/local/lib/python3.8/dist-packages (from imbalanced-learn) (1.21.6)\n",
            "Requirement already satisfied: threadpoolctl>=2.0.0 in /usr/local/lib/python3.8/dist-packages (from scikit-learn>=0.24->imbalanced-learn) (3.1.0)\n"
          ]
        }
      ]
    },
    {
      "cell_type": "markdown",
      "id": "09cf0b25-cfda-4303-9c0f-57a5e5028a14",
      "metadata": {
        "id": "09cf0b25-cfda-4303-9c0f-57a5e5028a14"
      },
      "source": [
        "# Dataset \n"
      ]
    },
    {
      "cell_type": "code",
      "execution_count": null,
      "id": "78641f6a-b67b-47cd-bf24-a8a27b402513",
      "metadata": {
        "execution": {
          "iopub.execute_input": "2023-02-05T15:44:18.871407Z",
          "iopub.status.busy": "2023-02-05T15:44:18.871108Z",
          "iopub.status.idle": "2023-02-05T15:44:20.669330Z",
          "shell.execute_reply": "2023-02-05T15:44:20.669046Z",
          "shell.execute_reply.started": "2023-02-05T15:44:18.871382Z"
        },
        "tags": [],
        "id": "78641f6a-b67b-47cd-bf24-a8a27b402513",
        "outputId": "45a7e8c9-d9ca-4040-e87c-111a8647bc26",
        "colab": {
          "base_uri": "https://localhost:8080/",
          "height": 488
        }
      },
      "outputs": [
        {
          "output_type": "execute_result",
          "data": {
            "text/plain": [
              "    annotation_sequence  feat_A  feat_C  feat_D  feat_E  feat_F  feat_G  \\\n",
              "0                     M   False   False   False   False   False   False   \n",
              "1                     G   False   False   False   False   False    True   \n",
              "2                     Q   False   False   False   False   False   False   \n",
              "3                     E   False   False   False    True   False   False   \n",
              "4                     P   False   False   False   False   False   False   \n",
              "..                  ...     ...     ...     ...     ...     ...     ...   \n",
              "755                   S   False   False   False   False   False   False   \n",
              "756                   H   False   False   False   False   False   False   \n",
              "757                   G   False   False   False   False   False    True   \n",
              "758                   G   False   False   False   False   False    True   \n",
              "759                   F   False   False   False   False    True   False   \n",
              "\n",
              "     feat_H  feat_I  feat_K  ...  feat_DSSP_10  feat_DSSP_11  feat_DSSP_12  \\\n",
              "0     False   False   False  ...             0           0.0            47   \n",
              "1     False   False   False  ...             0           0.0             0   \n",
              "2     False   False   False  ...             1          -0.0            -1   \n",
              "3     False   False   False  ...           706          -0.1           705   \n",
              "4     False   False   False  ...             0           0.0           705   \n",
              "..      ...     ...     ...  ...           ...           ...           ...   \n",
              "755   False   False   False  ...            -3          -0.1             2   \n",
              "756    True   False   False  ...          -358          -0.1          -330   \n",
              "757   False   False   False  ...          -360          -0.2            -1   \n",
              "758   False   False   False  ...             0           0.0             0   \n",
              "759   False   False   False  ...             0           0.0             0   \n",
              "\n",
              "     feat_DSSP_13    coord_X    coord_Y    coord_Z        entry  entry_index  \\\n",
              "0            -0.0 -26.499001  -4.742000 -35.189999  GEMI5_HUMAN            0   \n",
              "1             0.0 -25.158001  -1.342000 -34.104000  GEMI5_HUMAN            1   \n",
              "2            -0.0 -21.926001  -1.641000 -32.175999  GEMI5_HUMAN            2   \n",
              "3            -0.0 -22.073999   0.654000 -29.171000  GEMI5_HUMAN            3   \n",
              "4            -0.2 -19.783001   2.670000 -26.858999  GEMI5_HUMAN            4   \n",
              "..            ...        ...        ...        ...          ...          ...   \n",
              "755          -0.4 -19.742001  20.796000 -12.319000   AOC3_HUMAN          755   \n",
              "756          -0.1 -16.299000  19.153999 -12.640000   AOC3_HUMAN          756   \n",
              "757          -0.1 -13.404000  19.502001 -10.121000   AOC3_HUMAN          757   \n",
              "758           0.0 -10.986000  20.320000 -13.016000   AOC3_HUMAN          758   \n",
              "759           0.0  -7.456000  19.052999 -13.909000   AOC3_HUMAN          759   \n",
              "\n",
              "     y_Ligand  \n",
              "0       False  \n",
              "1       False  \n",
              "2       False  \n",
              "3       False  \n",
              "4       False  \n",
              "..        ...  \n",
              "755     False  \n",
              "756     False  \n",
              "757     False  \n",
              "758     False  \n",
              "759     False  \n",
              "\n",
              "[497166 rows x 50 columns]"
            ],
            "text/html": [
              "\n",
              "  <div id=\"df-8d2f3642-54c1-4cee-9cf0-2fcaabee9aa9\">\n",
              "    <div class=\"colab-df-container\">\n",
              "      <div>\n",
              "<style scoped>\n",
              "    .dataframe tbody tr th:only-of-type {\n",
              "        vertical-align: middle;\n",
              "    }\n",
              "\n",
              "    .dataframe tbody tr th {\n",
              "        vertical-align: top;\n",
              "    }\n",
              "\n",
              "    .dataframe thead th {\n",
              "        text-align: right;\n",
              "    }\n",
              "</style>\n",
              "<table border=\"1\" class=\"dataframe\">\n",
              "  <thead>\n",
              "    <tr style=\"text-align: right;\">\n",
              "      <th></th>\n",
              "      <th>annotation_sequence</th>\n",
              "      <th>feat_A</th>\n",
              "      <th>feat_C</th>\n",
              "      <th>feat_D</th>\n",
              "      <th>feat_E</th>\n",
              "      <th>feat_F</th>\n",
              "      <th>feat_G</th>\n",
              "      <th>feat_H</th>\n",
              "      <th>feat_I</th>\n",
              "      <th>feat_K</th>\n",
              "      <th>...</th>\n",
              "      <th>feat_DSSP_10</th>\n",
              "      <th>feat_DSSP_11</th>\n",
              "      <th>feat_DSSP_12</th>\n",
              "      <th>feat_DSSP_13</th>\n",
              "      <th>coord_X</th>\n",
              "      <th>coord_Y</th>\n",
              "      <th>coord_Z</th>\n",
              "      <th>entry</th>\n",
              "      <th>entry_index</th>\n",
              "      <th>y_Ligand</th>\n",
              "    </tr>\n",
              "  </thead>\n",
              "  <tbody>\n",
              "    <tr>\n",
              "      <th>0</th>\n",
              "      <td>M</td>\n",
              "      <td>False</td>\n",
              "      <td>False</td>\n",
              "      <td>False</td>\n",
              "      <td>False</td>\n",
              "      <td>False</td>\n",
              "      <td>False</td>\n",
              "      <td>False</td>\n",
              "      <td>False</td>\n",
              "      <td>False</td>\n",
              "      <td>...</td>\n",
              "      <td>0</td>\n",
              "      <td>0.0</td>\n",
              "      <td>47</td>\n",
              "      <td>-0.0</td>\n",
              "      <td>-26.499001</td>\n",
              "      <td>-4.742000</td>\n",
              "      <td>-35.189999</td>\n",
              "      <td>GEMI5_HUMAN</td>\n",
              "      <td>0</td>\n",
              "      <td>False</td>\n",
              "    </tr>\n",
              "    <tr>\n",
              "      <th>1</th>\n",
              "      <td>G</td>\n",
              "      <td>False</td>\n",
              "      <td>False</td>\n",
              "      <td>False</td>\n",
              "      <td>False</td>\n",
              "      <td>False</td>\n",
              "      <td>True</td>\n",
              "      <td>False</td>\n",
              "      <td>False</td>\n",
              "      <td>False</td>\n",
              "      <td>...</td>\n",
              "      <td>0</td>\n",
              "      <td>0.0</td>\n",
              "      <td>0</td>\n",
              "      <td>0.0</td>\n",
              "      <td>-25.158001</td>\n",
              "      <td>-1.342000</td>\n",
              "      <td>-34.104000</td>\n",
              "      <td>GEMI5_HUMAN</td>\n",
              "      <td>1</td>\n",
              "      <td>False</td>\n",
              "    </tr>\n",
              "    <tr>\n",
              "      <th>2</th>\n",
              "      <td>Q</td>\n",
              "      <td>False</td>\n",
              "      <td>False</td>\n",
              "      <td>False</td>\n",
              "      <td>False</td>\n",
              "      <td>False</td>\n",
              "      <td>False</td>\n",
              "      <td>False</td>\n",
              "      <td>False</td>\n",
              "      <td>False</td>\n",
              "      <td>...</td>\n",
              "      <td>1</td>\n",
              "      <td>-0.0</td>\n",
              "      <td>-1</td>\n",
              "      <td>-0.0</td>\n",
              "      <td>-21.926001</td>\n",
              "      <td>-1.641000</td>\n",
              "      <td>-32.175999</td>\n",
              "      <td>GEMI5_HUMAN</td>\n",
              "      <td>2</td>\n",
              "      <td>False</td>\n",
              "    </tr>\n",
              "    <tr>\n",
              "      <th>3</th>\n",
              "      <td>E</td>\n",
              "      <td>False</td>\n",
              "      <td>False</td>\n",
              "      <td>False</td>\n",
              "      <td>True</td>\n",
              "      <td>False</td>\n",
              "      <td>False</td>\n",
              "      <td>False</td>\n",
              "      <td>False</td>\n",
              "      <td>False</td>\n",
              "      <td>...</td>\n",
              "      <td>706</td>\n",
              "      <td>-0.1</td>\n",
              "      <td>705</td>\n",
              "      <td>-0.0</td>\n",
              "      <td>-22.073999</td>\n",
              "      <td>0.654000</td>\n",
              "      <td>-29.171000</td>\n",
              "      <td>GEMI5_HUMAN</td>\n",
              "      <td>3</td>\n",
              "      <td>False</td>\n",
              "    </tr>\n",
              "    <tr>\n",
              "      <th>4</th>\n",
              "      <td>P</td>\n",
              "      <td>False</td>\n",
              "      <td>False</td>\n",
              "      <td>False</td>\n",
              "      <td>False</td>\n",
              "      <td>False</td>\n",
              "      <td>False</td>\n",
              "      <td>False</td>\n",
              "      <td>False</td>\n",
              "      <td>False</td>\n",
              "      <td>...</td>\n",
              "      <td>0</td>\n",
              "      <td>0.0</td>\n",
              "      <td>705</td>\n",
              "      <td>-0.2</td>\n",
              "      <td>-19.783001</td>\n",
              "      <td>2.670000</td>\n",
              "      <td>-26.858999</td>\n",
              "      <td>GEMI5_HUMAN</td>\n",
              "      <td>4</td>\n",
              "      <td>False</td>\n",
              "    </tr>\n",
              "    <tr>\n",
              "      <th>...</th>\n",
              "      <td>...</td>\n",
              "      <td>...</td>\n",
              "      <td>...</td>\n",
              "      <td>...</td>\n",
              "      <td>...</td>\n",
              "      <td>...</td>\n",
              "      <td>...</td>\n",
              "      <td>...</td>\n",
              "      <td>...</td>\n",
              "      <td>...</td>\n",
              "      <td>...</td>\n",
              "      <td>...</td>\n",
              "      <td>...</td>\n",
              "      <td>...</td>\n",
              "      <td>...</td>\n",
              "      <td>...</td>\n",
              "      <td>...</td>\n",
              "      <td>...</td>\n",
              "      <td>...</td>\n",
              "      <td>...</td>\n",
              "      <td>...</td>\n",
              "    </tr>\n",
              "    <tr>\n",
              "      <th>755</th>\n",
              "      <td>S</td>\n",
              "      <td>False</td>\n",
              "      <td>False</td>\n",
              "      <td>False</td>\n",
              "      <td>False</td>\n",
              "      <td>False</td>\n",
              "      <td>False</td>\n",
              "      <td>False</td>\n",
              "      <td>False</td>\n",
              "      <td>False</td>\n",
              "      <td>...</td>\n",
              "      <td>-3</td>\n",
              "      <td>-0.1</td>\n",
              "      <td>2</td>\n",
              "      <td>-0.4</td>\n",
              "      <td>-19.742001</td>\n",
              "      <td>20.796000</td>\n",
              "      <td>-12.319000</td>\n",
              "      <td>AOC3_HUMAN</td>\n",
              "      <td>755</td>\n",
              "      <td>False</td>\n",
              "    </tr>\n",
              "    <tr>\n",
              "      <th>756</th>\n",
              "      <td>H</td>\n",
              "      <td>False</td>\n",
              "      <td>False</td>\n",
              "      <td>False</td>\n",
              "      <td>False</td>\n",
              "      <td>False</td>\n",
              "      <td>False</td>\n",
              "      <td>True</td>\n",
              "      <td>False</td>\n",
              "      <td>False</td>\n",
              "      <td>...</td>\n",
              "      <td>-358</td>\n",
              "      <td>-0.1</td>\n",
              "      <td>-330</td>\n",
              "      <td>-0.1</td>\n",
              "      <td>-16.299000</td>\n",
              "      <td>19.153999</td>\n",
              "      <td>-12.640000</td>\n",
              "      <td>AOC3_HUMAN</td>\n",
              "      <td>756</td>\n",
              "      <td>False</td>\n",
              "    </tr>\n",
              "    <tr>\n",
              "      <th>757</th>\n",
              "      <td>G</td>\n",
              "      <td>False</td>\n",
              "      <td>False</td>\n",
              "      <td>False</td>\n",
              "      <td>False</td>\n",
              "      <td>False</td>\n",
              "      <td>True</td>\n",
              "      <td>False</td>\n",
              "      <td>False</td>\n",
              "      <td>False</td>\n",
              "      <td>...</td>\n",
              "      <td>-360</td>\n",
              "      <td>-0.2</td>\n",
              "      <td>-1</td>\n",
              "      <td>-0.1</td>\n",
              "      <td>-13.404000</td>\n",
              "      <td>19.502001</td>\n",
              "      <td>-10.121000</td>\n",
              "      <td>AOC3_HUMAN</td>\n",
              "      <td>757</td>\n",
              "      <td>False</td>\n",
              "    </tr>\n",
              "    <tr>\n",
              "      <th>758</th>\n",
              "      <td>G</td>\n",
              "      <td>False</td>\n",
              "      <td>False</td>\n",
              "      <td>False</td>\n",
              "      <td>False</td>\n",
              "      <td>False</td>\n",
              "      <td>True</td>\n",
              "      <td>False</td>\n",
              "      <td>False</td>\n",
              "      <td>False</td>\n",
              "      <td>...</td>\n",
              "      <td>0</td>\n",
              "      <td>0.0</td>\n",
              "      <td>0</td>\n",
              "      <td>0.0</td>\n",
              "      <td>-10.986000</td>\n",
              "      <td>20.320000</td>\n",
              "      <td>-13.016000</td>\n",
              "      <td>AOC3_HUMAN</td>\n",
              "      <td>758</td>\n",
              "      <td>False</td>\n",
              "    </tr>\n",
              "    <tr>\n",
              "      <th>759</th>\n",
              "      <td>F</td>\n",
              "      <td>False</td>\n",
              "      <td>False</td>\n",
              "      <td>False</td>\n",
              "      <td>False</td>\n",
              "      <td>True</td>\n",
              "      <td>False</td>\n",
              "      <td>False</td>\n",
              "      <td>False</td>\n",
              "      <td>False</td>\n",
              "      <td>...</td>\n",
              "      <td>0</td>\n",
              "      <td>0.0</td>\n",
              "      <td>0</td>\n",
              "      <td>0.0</td>\n",
              "      <td>-7.456000</td>\n",
              "      <td>19.052999</td>\n",
              "      <td>-13.909000</td>\n",
              "      <td>AOC3_HUMAN</td>\n",
              "      <td>759</td>\n",
              "      <td>False</td>\n",
              "    </tr>\n",
              "  </tbody>\n",
              "</table>\n",
              "<p>497166 rows × 50 columns</p>\n",
              "</div>\n",
              "      <button class=\"colab-df-convert\" onclick=\"convertToInteractive('df-8d2f3642-54c1-4cee-9cf0-2fcaabee9aa9')\"\n",
              "              title=\"Convert this dataframe to an interactive table.\"\n",
              "              style=\"display:none;\">\n",
              "        \n",
              "  <svg xmlns=\"http://www.w3.org/2000/svg\" height=\"24px\"viewBox=\"0 0 24 24\"\n",
              "       width=\"24px\">\n",
              "    <path d=\"M0 0h24v24H0V0z\" fill=\"none\"/>\n",
              "    <path d=\"M18.56 5.44l.94 2.06.94-2.06 2.06-.94-2.06-.94-.94-2.06-.94 2.06-2.06.94zm-11 1L8.5 8.5l.94-2.06 2.06-.94-2.06-.94L8.5 2.5l-.94 2.06-2.06.94zm10 10l.94 2.06.94-2.06 2.06-.94-2.06-.94-.94-2.06-.94 2.06-2.06.94z\"/><path d=\"M17.41 7.96l-1.37-1.37c-.4-.4-.92-.59-1.43-.59-.52 0-1.04.2-1.43.59L10.3 9.45l-7.72 7.72c-.78.78-.78 2.05 0 2.83L4 21.41c.39.39.9.59 1.41.59.51 0 1.02-.2 1.41-.59l7.78-7.78 2.81-2.81c.8-.78.8-2.07 0-2.86zM5.41 20L4 18.59l7.72-7.72 1.47 1.35L5.41 20z\"/>\n",
              "  </svg>\n",
              "      </button>\n",
              "      \n",
              "  <style>\n",
              "    .colab-df-container {\n",
              "      display:flex;\n",
              "      flex-wrap:wrap;\n",
              "      gap: 12px;\n",
              "    }\n",
              "\n",
              "    .colab-df-convert {\n",
              "      background-color: #E8F0FE;\n",
              "      border: none;\n",
              "      border-radius: 50%;\n",
              "      cursor: pointer;\n",
              "      display: none;\n",
              "      fill: #1967D2;\n",
              "      height: 32px;\n",
              "      padding: 0 0 0 0;\n",
              "      width: 32px;\n",
              "    }\n",
              "\n",
              "    .colab-df-convert:hover {\n",
              "      background-color: #E2EBFA;\n",
              "      box-shadow: 0px 1px 2px rgba(60, 64, 67, 0.3), 0px 1px 3px 1px rgba(60, 64, 67, 0.15);\n",
              "      fill: #174EA6;\n",
              "    }\n",
              "\n",
              "    [theme=dark] .colab-df-convert {\n",
              "      background-color: #3B4455;\n",
              "      fill: #D2E3FC;\n",
              "    }\n",
              "\n",
              "    [theme=dark] .colab-df-convert:hover {\n",
              "      background-color: #434B5C;\n",
              "      box-shadow: 0px 1px 3px 1px rgba(0, 0, 0, 0.15);\n",
              "      filter: drop-shadow(0px 1px 2px rgba(0, 0, 0, 0.3));\n",
              "      fill: #FFFFFF;\n",
              "    }\n",
              "  </style>\n",
              "\n",
              "      <script>\n",
              "        const buttonEl =\n",
              "          document.querySelector('#df-8d2f3642-54c1-4cee-9cf0-2fcaabee9aa9 button.colab-df-convert');\n",
              "        buttonEl.style.display =\n",
              "          google.colab.kernel.accessAllowed ? 'block' : 'none';\n",
              "\n",
              "        async function convertToInteractive(key) {\n",
              "          const element = document.querySelector('#df-8d2f3642-54c1-4cee-9cf0-2fcaabee9aa9');\n",
              "          const dataTable =\n",
              "            await google.colab.kernel.invokeFunction('convertToInteractive',\n",
              "                                                     [key], {});\n",
              "          if (!dataTable) return;\n",
              "\n",
              "          const docLinkHtml = 'Like what you see? Visit the ' +\n",
              "            '<a target=\"_blank\" href=https://colab.research.google.com/notebooks/data_table.ipynb>data table notebook</a>'\n",
              "            + ' to learn more about interactive tables.';\n",
              "          element.innerHTML = '';\n",
              "          dataTable['output_type'] = 'display_data';\n",
              "          await google.colab.output.renderOutput(dataTable, element);\n",
              "          const docLink = document.createElement('div');\n",
              "          docLink.innerHTML = docLinkHtml;\n",
              "          element.appendChild(docLink);\n",
              "        }\n",
              "      </script>\n",
              "    </div>\n",
              "  </div>\n",
              "  "
            ]
          },
          "metadata": {},
          "execution_count": 227
        }
      ],
      "source": [
        "import pandas as pd\n",
        "\n",
        "df_train = pd.read_csv(\"/content/drive/MyDrive/af2_dataset_training_labeled.csv.gz\", index_col=0)\n",
        "df_train"
      ]
    },
    {
      "cell_type": "code",
      "execution_count": null,
      "id": "0c0f07f8-4921-4aed-bc04-9d2d728f9bf9",
      "metadata": {
        "execution": {
          "iopub.execute_input": "2023-02-05T15:44:20.674225Z",
          "iopub.status.busy": "2023-02-05T15:44:20.674161Z",
          "iopub.status.idle": "2023-02-05T15:44:20.676314Z",
          "shell.execute_reply": "2023-02-05T15:44:20.676098Z",
          "shell.execute_reply.started": "2023-02-05T15:44:20.674217Z"
        },
        "tags": [],
        "id": "0c0f07f8-4921-4aed-bc04-9d2d728f9bf9",
        "outputId": "f6fe7b17-6ad6-4120-c703-5bb282db99aa",
        "colab": {
          "base_uri": "https://localhost:8080/"
        }
      },
      "outputs": [
        {
          "output_type": "execute_result",
          "data": {
            "text/plain": [
              "Index(['annotation_sequence', 'feat_A', 'feat_C', 'feat_D', 'feat_E', 'feat_F',\n",
              "       'feat_G', 'feat_H', 'feat_I', 'feat_K', 'feat_L', 'feat_M', 'feat_N',\n",
              "       'feat_P', 'feat_Q', 'feat_R', 'feat_S', 'feat_T', 'feat_V', 'feat_W',\n",
              "       'feat_Y', 'annotation_atomrec', 'feat_PHI', 'feat_PSI', 'feat_TAU',\n",
              "       'feat_THETA', 'feat_BBSASA', 'feat_SCSASA', 'feat_pLDDT', 'feat_DSSP_H',\n",
              "       'feat_DSSP_B', 'feat_DSSP_E', 'feat_DSSP_G', 'feat_DSSP_I',\n",
              "       'feat_DSSP_T', 'feat_DSSP_S', 'feat_DSSP_6', 'feat_DSSP_7',\n",
              "       'feat_DSSP_8', 'feat_DSSP_9', 'feat_DSSP_10', 'feat_DSSP_11',\n",
              "       'feat_DSSP_12', 'feat_DSSP_13', 'coord_X', 'coord_Y', 'coord_Z',\n",
              "       'entry', 'entry_index', 'y_Ligand'],\n",
              "      dtype='object')"
            ]
          },
          "metadata": {},
          "execution_count": 2
        }
      ],
      "source": [
        "df_train.columns"
      ]
    },
    {
      "cell_type": "code",
      "source": [
        "df_train.info()"
      ],
      "metadata": {
        "colab": {
          "base_uri": "https://localhost:8080/"
        },
        "id": "OxtmgSVPZEuS",
        "outputId": "0abf3c3c-d3f3-468c-ba05-3f9dfc7b609a"
      },
      "id": "OxtmgSVPZEuS",
      "execution_count": null,
      "outputs": [
        {
          "output_type": "stream",
          "name": "stdout",
          "text": [
            "<class 'pandas.core.frame.DataFrame'>\n",
            "Int64Index: 497166 entries, 0 to 759\n",
            "Data columns (total 50 columns):\n",
            " #   Column               Non-Null Count   Dtype  \n",
            "---  ------               --------------   -----  \n",
            " 0   annotation_sequence  497166 non-null  object \n",
            " 1   feat_A               497166 non-null  bool   \n",
            " 2   feat_C               497166 non-null  bool   \n",
            " 3   feat_D               497166 non-null  bool   \n",
            " 4   feat_E               497166 non-null  bool   \n",
            " 5   feat_F               497166 non-null  bool   \n",
            " 6   feat_G               497166 non-null  bool   \n",
            " 7   feat_H               497166 non-null  bool   \n",
            " 8   feat_I               497166 non-null  bool   \n",
            " 9   feat_K               497166 non-null  bool   \n",
            " 10  feat_L               497166 non-null  bool   \n",
            " 11  feat_M               497166 non-null  bool   \n",
            " 12  feat_N               497166 non-null  bool   \n",
            " 13  feat_P               497166 non-null  bool   \n",
            " 14  feat_Q               497166 non-null  bool   \n",
            " 15  feat_R               497166 non-null  bool   \n",
            " 16  feat_S               497166 non-null  bool   \n",
            " 17  feat_T               497166 non-null  bool   \n",
            " 18  feat_V               497166 non-null  bool   \n",
            " 19  feat_W               497166 non-null  bool   \n",
            " 20  feat_Y               497166 non-null  bool   \n",
            " 21  annotation_atomrec   484477 non-null  object \n",
            " 22  feat_PHI             497166 non-null  float64\n",
            " 23  feat_PSI             497166 non-null  float64\n",
            " 24  feat_TAU             497166 non-null  float64\n",
            " 25  feat_THETA           497166 non-null  float64\n",
            " 26  feat_BBSASA          497166 non-null  float64\n",
            " 27  feat_SCSASA          497166 non-null  float64\n",
            " 28  feat_pLDDT           497166 non-null  float64\n",
            " 29  feat_DSSP_H          497166 non-null  bool   \n",
            " 30  feat_DSSP_B          497166 non-null  bool   \n",
            " 31  feat_DSSP_E          497166 non-null  bool   \n",
            " 32  feat_DSSP_G          497166 non-null  bool   \n",
            " 33  feat_DSSP_I          497166 non-null  bool   \n",
            " 34  feat_DSSP_T          497166 non-null  bool   \n",
            " 35  feat_DSSP_S          497166 non-null  bool   \n",
            " 36  feat_DSSP_6          497166 non-null  int64  \n",
            " 37  feat_DSSP_7          497166 non-null  float64\n",
            " 38  feat_DSSP_8          497166 non-null  int64  \n",
            " 39  feat_DSSP_9          497166 non-null  float64\n",
            " 40  feat_DSSP_10         497166 non-null  int64  \n",
            " 41  feat_DSSP_11         497166 non-null  float64\n",
            " 42  feat_DSSP_12         497166 non-null  int64  \n",
            " 43  feat_DSSP_13         497166 non-null  float64\n",
            " 44  coord_X              497166 non-null  float64\n",
            " 45  coord_Y              497166 non-null  float64\n",
            " 46  coord_Z              497166 non-null  float64\n",
            " 47  entry                497166 non-null  object \n",
            " 48  entry_index          497166 non-null  int64  \n",
            " 49  y_Ligand             497166 non-null  bool   \n",
            "dtypes: bool(28), float64(14), int64(5), object(3)\n",
            "memory usage: 100.5+ MB\n"
          ]
        }
      ]
    },
    {
      "cell_type": "markdown",
      "id": "09a1b37d-d4c7-4ba5-b096-6efbc0775c60",
      "metadata": {
        "id": "09a1b37d-d4c7-4ba5-b096-6efbc0775c60"
      },
      "source": [
        "All columns with the `feat_*` prefix are boolean, integer, or float features that describe the residue itself.  These can be used for training a model.  Domain knowledge of these values should not be necessary to participate in the challenge, but we've provided brief descriptions below for anyone who may be interested:\n",
        "\n",
        "* `feat_[letter]` are one-hot encoded boolean values for each of the 20 possible amino acids.\n",
        "* `feat_PHI`, `feat_PSI`, `feat_TAU`, `feat_THETA` describe various protein chain bonding angles, computed with [Biopython](https://biopython.org/docs/1.75/api/Bio.PDB.Polypeptide.html).\n",
        "* `feat_BBSASA`, `feat_SCSASA` describe the solvent accessible surface area, calculated using [FreeSASA](https://freesasa.github.io/).\n",
        "* `feat_pLDDT` is an AlphaFold2 residue-level prediction confidence value.\n",
        "* `feat_DSSP_[letter]` are secondary structure assignments by [DSSP].(https://en.wikipedia.org/wiki/DSSP_(algorithm))\n",
        "* `feat_DSSP_[number]` are other backbone structural features describing backbone hydrogen. bonding networks, also assigned by [DSSP](https://en.wikipedia.org/wiki/DSSP_(algorithm)).\n",
        "\n",
        "Column `y_Ligand` indicates if the residue (row) belongs to a known binding site or not.  This column is the classification objective for our challenge. \n",
        "\n",
        "The remaining columns describe other elements of the protein structure for reference or troubleshooting purposes.  Participants may use this information to to engineer new features/representations in their models if they so choose. These include:\n",
        "* `annotation_sequence` and `annotation_atomrec`: Residue amino acid in character format.\n",
        "* `entry`: Protein name, can be looked up on Uniprot for more information about the protein.  Each unique entry is one unique protein structure in this dataset.\n",
        "* `coord_X`, `coord_Y`, `coord_Z`: XYZ coordinates of the residue in the respective protein structure.  For example, all residues for protein 'QCR1_HUMAN' belong to the same coordinate space, but the coordinate space would shared between two residues (rows) with `entry` values of 'QCR1_HUMAN' and 'PPM1A_HUMAN'.\n",
        "* `entry_index`: The order of the amino acid within the protein sequence.  As with coordinates, these relationships are only meaningful for rows (residues) that share the same `entry` value.  For example, within QCR1_HUMAN two residues (rows) with `entry_index` 5 and 6 are adjacent (connected) neighbors.\n",
        "\n",
        "The test dataset has the same format, but is otherwise missing the `y_Ligand` column. "
      ]
    },
    {
      "cell_type": "code",
      "source": [
        "bool_train_labels = np.array(df_train[['y_Ligand']]) != 0\n",
        "pos_df = pd.DataFrame(df_train[ bool_train_labels], columns=df_train.columns)"
      ],
      "metadata": {
        "id": "EUSn5_QcmE2f"
      },
      "id": "EUSn5_QcmE2f",
      "execution_count": null,
      "outputs": []
    },
    {
      "cell_type": "code",
      "source": [
        "pos_df.columns"
      ],
      "metadata": {
        "colab": {
          "base_uri": "https://localhost:8080/"
        },
        "id": "-Q194GT2mVRL",
        "outputId": "aaa5b6e0-6e6a-433d-a010-8733efac9211"
      },
      "id": "-Q194GT2mVRL",
      "execution_count": null,
      "outputs": [
        {
          "output_type": "execute_result",
          "data": {
            "text/plain": [
              "Index(['annotation_sequence', 'feat_A', 'feat_C', 'feat_D', 'feat_E', 'feat_F',\n",
              "       'feat_G', 'feat_H', 'feat_I', 'feat_K', 'feat_L', 'feat_M', 'feat_N',\n",
              "       'feat_P', 'feat_Q', 'feat_R', 'feat_S', 'feat_T', 'feat_V', 'feat_W',\n",
              "       'feat_Y', 'annotation_atomrec', 'feat_PHI', 'feat_PSI', 'feat_TAU',\n",
              "       'feat_THETA', 'feat_BBSASA', 'feat_SCSASA', 'feat_pLDDT', 'feat_DSSP_H',\n",
              "       'feat_DSSP_B', 'feat_DSSP_E', 'feat_DSSP_G', 'feat_DSSP_I',\n",
              "       'feat_DSSP_T', 'feat_DSSP_S', 'feat_DSSP_6', 'feat_DSSP_7',\n",
              "       'feat_DSSP_8', 'feat_DSSP_9', 'feat_DSSP_10', 'feat_DSSP_11',\n",
              "       'feat_DSSP_12', 'feat_DSSP_13', 'coord_X', 'coord_Y', 'coord_Z',\n",
              "       'entry', 'entry_index', 'y_Ligand'],\n",
              "      dtype='object')"
            ]
          },
          "metadata": {},
          "execution_count": 192
        }
      ]
    },
    {
      "cell_type": "code",
      "source": [
        "important = ['feat_THETA', 'entry_index', 'coord_X', 'coord_Y', 'coord_Z', 'feat_DSSP_6, 8, 10, 12', 'feat_pLDDT']"
      ],
      "metadata": {
        "id": "B0sfZDSerxVG"
      },
      "id": "B0sfZDSerxVG",
      "execution_count": null,
      "outputs": []
    },
    {
      "cell_type": "code",
      "source": [
        "plot = df_train.plot.scatter(x='feat_DSSP_8', y='y_Ligand', c='DarkBlue')"
      ],
      "metadata": {
        "colab": {
          "base_uri": "https://localhost:8080/",
          "height": 280
        },
        "id": "3EY7MCdyovyK",
        "outputId": "0729a8b7-8dbc-4c52-be66-2da63cafab94"
      },
      "id": "3EY7MCdyovyK",
      "execution_count": null,
      "outputs": [
        {
          "output_type": "display_data",
          "data": {
            "text/plain": [
              "<Figure size 432x288 with 1 Axes>"
            ],
            "image/png": "[encoded data removed]"
          },
          "metadata": {
            "needs_background": "light"
          }
        }
      ]
    },
    {
      "cell_type": "code",
      "source": [
        "plot = pos_df.plot.scatter(x='entry', y='entry_index', c='DarkBlue')"
      ],
      "metadata": {
        "colab": {
          "base_uri": "https://localhost:8080/",
          "height": 280
        },
        "id": "sYkYBDnXqBN6",
        "outputId": "8ceb4a50-e93c-472d-e54a-50db757faec6"
      },
      "id": "sYkYBDnXqBN6",
      "execution_count": null,
      "outputs": [
        {
          "output_type": "display_data",
          "data": {
            "text/plain": [
              "<Figure size 432x288 with 1 Axes>"
            ],
            "image/png": "[encoded data removed]"
          },
          "metadata": {
            "needs_background": "light"
          }
        }
      ]
    },
    {
      "cell_type": "code",
      "source": [
        "entry_count = pos_df[\"entry\"].value_counts()\n",
        "print(entry_count)"
      ],
      "metadata": {
        "colab": {
          "base_uri": "https://localhost:8080/"
        },
        "id": "8v-5UkKpvpXR",
        "outputId": "6f698f62-3526-46d5-9a33-0a75eb39410d"
      },
      "id": "8v-5UkKpvpXR",
      "execution_count": null,
      "outputs": [
        {
          "output_type": "stream",
          "name": "stdout",
          "text": [
            "PTN1_HUMAN     155\n",
            "KDM4D_HUMAN    148\n",
            "ACLY_HUMAN     104\n",
            "CDK2_HUMAN      92\n",
            "IMDH2_HUMAN     91\n",
            "              ... \n",
            "CISD1_HUMAN      3\n",
            "KLK3_HUMAN       3\n",
            "PHF2_HUMAN       2\n",
            "ANXA3_HUMAN      2\n",
            "IGHG2_HUMAN      2\n",
            "Name: entry, Length: 635, dtype: int64\n"
          ]
        }
      ]
    },
    {
      "cell_type": "code",
      "source": [
        "entry_count = pos_df[\"entry\"].value_counts()\n",
        "entry_rank = list(entry_count.index)\n",
        "entry_org = list(df_train['entry'].unique())\n",
        "for i in entry_org:\n",
        "  if i not in entry_rank:\n",
        "    entry_rank.append(i)\n",
        "entry_rank = entry_rank[::-1]"
      ],
      "metadata": {
        "id": "IlO6lqm8pyCR"
      },
      "id": "IlO6lqm8pyCR",
      "execution_count": null,
      "outputs": []
    },
    {
      "cell_type": "code",
      "source": [
        "zeros = (df_train['y_Ligand'] == 0).sum()\n",
        "ones = (df_train['y_Ligand'] == 1).sum()\n",
        "\n",
        "print(f\"Number of Negative Case: {zeros}\")\n",
        "print(f\"Number of Positive Case: {ones}\")\n",
        "\n",
        "neg, pos = np.bincount(df_train['y_Ligand'])\n",
        "print(f\"The number of pos to neg is {round(pos/neg, 4)}\")\n",
        "scale_pos = neg/pos\n",
        "print(f\"Sclae Weight is {round(scale_pos, 4)}\")\n",
        "\n",
        "pos_percent = pos/(pos+neg)\n",
        "print(f\"The Postive Percentage in the Dataset is {round(pos_percent*100, 2)}%\")"
      ],
      "metadata": {
        "colab": {
          "base_uri": "https://localhost:8080/"
        },
        "id": "FkB0L1TVS6OY",
        "outputId": "4aa3b186-0987-40ea-e777-f8067ba7c87b"
      },
      "id": "FkB0L1TVS6OY",
      "execution_count": null,
      "outputs": [
        {
          "output_type": "stream",
          "name": "stdout",
          "text": [
            "Number of Negative Case: 479912\n",
            "Number of Positive Case: 17254\n",
            "The number of pos to neg is 0.036\n",
            "Sclae Weight is 27.8145\n",
            "The Postive Percentage in the Dataset is 3.47%\n"
          ]
        }
      ]
    },
    {
      "cell_type": "code",
      "source": [
        "# Set Class Weights\n",
        "total = neg + pos\n",
        "epsilon = 2.0\n",
        "weight_for_0 = (1 / neg) * (total / epsilon)\n",
        "weight_for_1 = (1 / pos) * (total / epsilon)\n",
        "\n",
        "class_weight = {0: weight_for_0, 1: weight_for_1}\n",
        "\n",
        "print('Weight for class 0: {:.2f}'.format(weight_for_0))\n",
        "print('Weight for class 1: {:.2f}'.format(weight_for_1))\n",
        "print(f\"Factor of {weight_for_1/weight_for_0}\")"
      ],
      "metadata": {
        "colab": {
          "base_uri": "https://localhost:8080/"
        },
        "id": "mU0DrMlLjxg5",
        "outputId": "335db2d7-a84e-4f9c-d2a9-ac4bd61824ce"
      },
      "id": "mU0DrMlLjxg5",
      "execution_count": null,
      "outputs": [
        {
          "output_type": "stream",
          "name": "stdout",
          "text": [
            "Weight for class 0: 0.52\n",
            "Weight for class 1: 14.41\n",
            "Factor of 27.814535759823812\n"
          ]
        }
      ]
    },
    {
      "cell_type": "code",
      "source": [
        "# Very Imbalance Dataset, that's why the ROC is very bad 50-50"
      ],
      "metadata": {
        "id": "J1-oHfKDTT3h"
      },
      "id": "J1-oHfKDTT3h",
      "execution_count": null,
      "outputs": []
    },
    {
      "cell_type": "code",
      "source": [
        "# turn all true and false into 1 and 0\n",
        "for col in df_train.columns:\n",
        "  if df_train[col].dtype == 'bool':\n",
        "    df_train[col] = df_train[col].apply(lambda x: 1 if x == True else 0)"
      ],
      "metadata": {
        "id": "JN66j_o7hWl9"
      },
      "id": "JN66j_o7hWl9",
      "execution_count": null,
      "outputs": []
    },
    {
      "cell_type": "code",
      "source": [
        "entry_categories = df_train.entry.unique()\n",
        "print(f\"Unique values in entry: {len(df_train.entry.unique())}\")\n",
        "print(df_train.entry.unique())"
      ],
      "metadata": {
        "id": "A8aato8YkqQC"
      },
      "id": "A8aato8YkqQC",
      "execution_count": null,
      "outputs": []
    },
    {
      "cell_type": "code",
      "source": [
        "# annotation_sequence and annotation_atomrec are the same and they are represented by the one-hot, so just ignored these two rows"
      ],
      "metadata": {
        "id": "u5UMY25GliZR"
      },
      "id": "u5UMY25GliZR",
      "execution_count": null,
      "outputs": []
    },
    {
      "cell_type": "code",
      "source": [
        "df_train_entry = df_train[['entry']]\n",
        "df_train.drop(axis = 1, columns=['entry'])"
      ],
      "metadata": {
        "id": "qF418xXinzJj"
      },
      "id": "qF418xXinzJj",
      "execution_count": null,
      "outputs": []
    },
    {
      "cell_type": "code",
      "source": [
        "# Reshape entry because one-hot encoding accept (-1, 1) for one column one-hot\n",
        "df_train_entry = df_train_entry.values\n",
        "df_train_entry = df_train_entry.reshape((-1, 1))"
      ],
      "metadata": {
        "id": "DOd-kzKmotn_"
      },
      "id": "DOd-kzKmotn_",
      "execution_count": null,
      "outputs": []
    },
    {
      "cell_type": "code",
      "source": [
        "# Need to one-hot the entry\n",
        "from sklearn.preprocessing import OneHotEncoder\n",
        "# 1. INSTANTIATE\n",
        "enc = OneHotEncoder()\n",
        "\n",
        "# 2. FIT\n",
        "enc.fit(df_train_entry)"
      ],
      "metadata": {
        "colab": {
          "base_uri": "https://localhost:8080/"
        },
        "id": "H0jvVkOOmrVN",
        "outputId": "d5fbc0f6-0817-42c5-a0f5-f8091c153c93"
      },
      "id": "H0jvVkOOmrVN",
      "execution_count": null,
      "outputs": [
        {
          "output_type": "execute_result",
          "data": {
            "text/plain": [
              "OneHotEncoder()"
            ]
          },
          "metadata": {},
          "execution_count": 8
        }
      ]
    },
    {
      "cell_type": "code",
      "source": [
        "enc.categories_ # basically the unique values print above"
      ],
      "metadata": {
        "id": "tovZ6eG9pVLe"
      },
      "id": "tovZ6eG9pVLe",
      "execution_count": null,
      "outputs": []
    },
    {
      "cell_type": "code",
      "source": [
        "# 3. Transform\n",
        "onehotlabels = enc.transform(df_train_entry).toarray()\n",
        "onehotlabels.shape"
      ],
      "metadata": {
        "colab": {
          "base_uri": "https://localhost:8080/"
        },
        "id": "2i63Cn3vpQc3",
        "outputId": "3245d0f1-f379-41ad-ab2e-ab549b7412f6"
      },
      "id": "2i63Cn3vpQc3",
      "execution_count": null,
      "outputs": [
        {
          "output_type": "execute_result",
          "data": {
            "text/plain": [
              "(497166, 723)"
            ]
          },
          "metadata": {},
          "execution_count": 9
        }
      ]
    },
    {
      "cell_type": "code",
      "source": [
        "onehotlabels[:5, :]"
      ],
      "metadata": {
        "colab": {
          "base_uri": "https://localhost:8080/"
        },
        "id": "HkBQ7okNrRo3",
        "outputId": "b447e686-bc03-460f-be03-94e4b73c15f2"
      },
      "id": "HkBQ7okNrRo3",
      "execution_count": null,
      "outputs": [
        {
          "output_type": "execute_result",
          "data": {
            "text/plain": [
              "array([[0., 0., 0., ..., 0., 0., 0.],\n",
              "       [0., 0., 0., ..., 0., 0., 0.],\n",
              "       [0., 0., 0., ..., 0., 0., 0.],\n",
              "       [0., 0., 0., ..., 0., 0., 0.],\n",
              "       [0., 0., 0., ..., 0., 0., 0.]])"
            ]
          },
          "metadata": {},
          "execution_count": 9
        }
      ]
    },
    {
      "cell_type": "code",
      "source": [
        "# Combine the onehoted entry and original together\n",
        "df_train_entry = pd.DataFrame(onehotlabels, columns=entry_categories)\n",
        "df_train_entry.reset_index(inplace=True, drop=True)\n",
        "df_train.reset_index(inplace=True, drop=True)\n",
        "df_train = pd.concat([df_train, df_train_entry], axis=1)"
      ],
      "metadata": {
        "id": "bgOQTXK3rj7Z"
      },
      "id": "bgOQTXK3rj7Z",
      "execution_count": null,
      "outputs": []
    },
    {
      "cell_type": "code",
      "source": [
        "df_train.shape"
      ],
      "metadata": {
        "colab": {
          "base_uri": "https://localhost:8080/"
        },
        "id": "TAitbKMHwaS6",
        "outputId": "75653fb1-5429-408e-8018-f398b72cf7e8"
      },
      "id": "TAitbKMHwaS6",
      "execution_count": null,
      "outputs": [
        {
          "output_type": "execute_result",
          "data": {
            "text/plain": [
              "(497166, 48)"
            ]
          },
          "metadata": {},
          "execution_count": 22
        }
      ]
    },
    {
      "cell_type": "code",
      "source": [
        "# One-hot Encoding Crash the Session so I will use Labelled encoding\n",
        "from sklearn.preprocessing import LabelEncoder, Normalizer\n",
        "# 1. INSTANTIATE\n",
        "# encode labels with value between 0 and n_classes-1.\n",
        "le = LabelEncoder()\n",
        "\n",
        "# 2/3. FIT AND TRANSFORM\n",
        "# use df.apply() to apply le.fit_transform to all columns\n",
        "df_train_entry = pd.DataFrame(entry_rank, index=None)\n",
        "le.fit(df_train_entry)\n",
        "df_train['entry'] = le.transform(df_train['entry'])\n",
        "\n",
        "# 4. NORMALIZE\n",
        "# Update maybe not, the normalize value are bad, ill use log\n",
        "# transformer = Normalizer().fit(df_train_entry)\n",
        "# df_train_entry = transformer.transform(df_train_entry)\n",
        "\n",
        "# 5. JOIN\n",
        "# df_train_entry = pd.DataFrame(df_train_entry, columns=['entry'])\n",
        "# df_train_entry.reset_index(inplace=True, drop=True)\n",
        "# df_train.reset_index(inplace=True, drop=True)\n",
        "# df_train = pd.concat([df_train, df_train_entry], axis=1)"
      ],
      "metadata": {
        "id": "d4I9qeEO2vBg"
      },
      "id": "d4I9qeEO2vBg",
      "execution_count": null,
      "outputs": []
    },
    {
      "cell_type": "code",
      "source": [
        "df_train = df_train.drop(columns=['annotation_sequence', 'annotation_atomrec'], axis=1)"
      ],
      "metadata": {
        "id": "7u86xlixbaCw"
      },
      "id": "7u86xlixbaCw",
      "execution_count": null,
      "outputs": []
    },
    {
      "cell_type": "code",
      "source": [
        "df_train['entry']"
      ],
      "metadata": {
        "colab": {
          "base_uri": "https://localhost:8080/"
        },
        "id": "Mi8Qe5zUxepQ",
        "outputId": "98ad6cd6-b9ca-4703-e96d-baca8e6dd8a5"
      },
      "id": "Mi8Qe5zUxepQ",
      "execution_count": null,
      "outputs": [
        {
          "output_type": "execute_result",
          "data": {
            "text/plain": [
              "0      253\n",
              "1      253\n",
              "2      253\n",
              "3      253\n",
              "4      253\n",
              "      ... \n",
              "755     52\n",
              "756     52\n",
              "757     52\n",
              "758     52\n",
              "759     52\n",
              "Name: entry, Length: 497166, dtype: int64"
            ]
          },
          "metadata": {},
          "execution_count": 235
        }
      ]
    },
    {
      "cell_type": "code",
      "source": [
        "testing = df_train.copy()"
      ],
      "metadata": {
        "id": "GKDYq1lKPdGW"
      },
      "id": "GKDYq1lKPdGW",
      "execution_count": null,
      "outputs": []
    },
    {
      "cell_type": "code",
      "source": [
        "testing.iloc[:, 20:27].describe()"
      ],
      "metadata": {
        "colab": {
          "base_uri": "https://localhost:8080/",
          "height": 300
        },
        "id": "hQVYslB3hYmw",
        "outputId": "bf6b6034-a541-4cf1-d4e4-502528f991f5"
      },
      "id": "hQVYslB3hYmw",
      "execution_count": null,
      "outputs": [
        {
          "output_type": "execute_result",
          "data": {
            "text/plain": [
              "            feat_PHI       feat_PSI       feat_TAU     feat_THETA  \\\n",
              "count  497166.000000  497166.000000  497166.000000  497166.000000   \n",
              "mean       -1.162007       0.780075      -0.108342       1.854782   \n",
              "std         1.039634       1.520499       1.833996       0.469940   \n",
              "min        -3.141557      -3.141564      -3.141578       0.000000   \n",
              "25%        -1.686451      -0.654101      -2.067246       1.590771   \n",
              "50%        -1.199133       0.241335       0.775206       1.756220   \n",
              "75%        -1.047934       2.297116       0.966645       2.122055   \n",
              "max         3.141575       3.141584       3.141568       3.137176   \n",
              "\n",
              "         feat_BBSASA    feat_SCSASA     feat_pLDDT  \n",
              "count  497166.000000  497166.000000  497166.000000  \n",
              "mean       16.746550       1.289043      75.733749  \n",
              "std        18.494097       1.859579      26.971019  \n",
              "min         0.000000     -16.255620       0.000000  \n",
              "25%         1.239801       0.772849      55.360000  \n",
              "50%         8.788650       1.649848      89.530000  \n",
              "75%        29.958422       1.941390      95.960000  \n",
              "max        99.338342      16.556650      98.980000  "
            ],
            "text/html": [
              "\n",
              "  <div id=\"df-29f1ad86-6a8b-4998-9745-afa7c11ef0e9\">\n",
              "    <div class=\"colab-df-container\">\n",
              "      <div>\n",
              "<style scoped>\n",
              "    .dataframe tbody tr th:only-of-type {\n",
              "        vertical-align: middle;\n",
              "    }\n",
              "\n",
              "    .dataframe tbody tr th {\n",
              "        vertical-align: top;\n",
              "    }\n",
              "\n",
              "    .dataframe thead th {\n",
              "        text-align: right;\n",
              "    }\n",
              "</style>\n",
              "<table border=\"1\" class=\"dataframe\">\n",
              "  <thead>\n",
              "    <tr style=\"text-align: right;\">\n",
              "      <th></th>\n",
              "      <th>feat_PHI</th>\n",
              "      <th>feat_PSI</th>\n",
              "      <th>feat_TAU</th>\n",
              "      <th>feat_THETA</th>\n",
              "      <th>feat_BBSASA</th>\n",
              "      <th>feat_SCSASA</th>\n",
              "      <th>feat_pLDDT</th>\n",
              "    </tr>\n",
              "  </thead>\n",
              "  <tbody>\n",
              "    <tr>\n",
              "      <th>count</th>\n",
              "      <td>497166.000000</td>\n",
              "      <td>497166.000000</td>\n",
              "      <td>497166.000000</td>\n",
              "      <td>497166.000000</td>\n",
              "      <td>497166.000000</td>\n",
              "      <td>497166.000000</td>\n",
              "      <td>497166.000000</td>\n",
              "    </tr>\n",
              "    <tr>\n",
              "      <th>mean</th>\n",
              "      <td>-1.162007</td>\n",
              "      <td>0.780075</td>\n",
              "      <td>-0.108342</td>\n",
              "      <td>1.854782</td>\n",
              "      <td>16.746550</td>\n",
              "      <td>1.289043</td>\n",
              "      <td>75.733749</td>\n",
              "    </tr>\n",
              "    <tr>\n",
              "      <th>std</th>\n",
              "      <td>1.039634</td>\n",
              "      <td>1.520499</td>\n",
              "      <td>1.833996</td>\n",
              "      <td>0.469940</td>\n",
              "      <td>18.494097</td>\n",
              "      <td>1.859579</td>\n",
              "      <td>26.971019</td>\n",
              "    </tr>\n",
              "    <tr>\n",
              "      <th>min</th>\n",
              "      <td>-3.141557</td>\n",
              "      <td>-3.141564</td>\n",
              "      <td>-3.141578</td>\n",
              "      <td>0.000000</td>\n",
              "      <td>0.000000</td>\n",
              "      <td>-16.255620</td>\n",
              "      <td>0.000000</td>\n",
              "    </tr>\n",
              "    <tr>\n",
              "      <th>25%</th>\n",
              "      <td>-1.686451</td>\n",
              "      <td>-0.654101</td>\n",
              "      <td>-2.067246</td>\n",
              "      <td>1.590771</td>\n",
              "      <td>1.239801</td>\n",
              "      <td>0.772849</td>\n",
              "      <td>55.360000</td>\n",
              "    </tr>\n",
              "    <tr>\n",
              "      <th>50%</th>\n",
              "      <td>-1.199133</td>\n",
              "      <td>0.241335</td>\n",
              "      <td>0.775206</td>\n",
              "      <td>1.756220</td>\n",
              "      <td>8.788650</td>\n",
              "      <td>1.649848</td>\n",
              "      <td>89.530000</td>\n",
              "    </tr>\n",
              "    <tr>\n",
              "      <th>75%</th>\n",
              "      <td>-1.047934</td>\n",
              "      <td>2.297116</td>\n",
              "      <td>0.966645</td>\n",
              "      <td>2.122055</td>\n",
              "      <td>29.958422</td>\n",
              "      <td>1.941390</td>\n",
              "      <td>95.960000</td>\n",
              "    </tr>\n",
              "    <tr>\n",
              "      <th>max</th>\n",
              "      <td>3.141575</td>\n",
              "      <td>3.141584</td>\n",
              "      <td>3.141568</td>\n",
              "      <td>3.137176</td>\n",
              "      <td>99.338342</td>\n",
              "      <td>16.556650</td>\n",
              "      <td>98.980000</td>\n",
              "    </tr>\n",
              "  </tbody>\n",
              "</table>\n",
              "</div>\n",
              "      <button class=\"colab-df-convert\" onclick=\"convertToInteractive('df-29f1ad86-6a8b-4998-9745-afa7c11ef0e9')\"\n",
              "              title=\"Convert this dataframe to an interactive table.\"\n",
              "              style=\"display:none;\">\n",
              "        \n",
              "  <svg xmlns=\"http://www.w3.org/2000/svg\" height=\"24px\"viewBox=\"0 0 24 24\"\n",
              "       width=\"24px\">\n",
              "    <path d=\"M0 0h24v24H0V0z\" fill=\"none\"/>\n",
              "    <path d=\"M18.56 5.44l.94 2.06.94-2.06 2.06-.94-2.06-.94-.94-2.06-.94 2.06-2.06.94zm-11 1L8.5 8.5l.94-2.06 2.06-.94-2.06-.94L8.5 2.5l-.94 2.06-2.06.94zm10 10l.94 2.06.94-2.06 2.06-.94-2.06-.94-.94-2.06-.94 2.06-2.06.94z\"/><path d=\"M17.41 7.96l-1.37-1.37c-.4-.4-.92-.59-1.43-.59-.52 0-1.04.2-1.43.59L10.3 9.45l-7.72 7.72c-.78.78-.78 2.05 0 2.83L4 21.41c.39.39.9.59 1.41.59.51 0 1.02-.2 1.41-.59l7.78-7.78 2.81-2.81c.8-.78.8-2.07 0-2.86zM5.41 20L4 18.59l7.72-7.72 1.47 1.35L5.41 20z\"/>\n",
              "  </svg>\n",
              "      </button>\n",
              "      \n",
              "  <style>\n",
              "    .colab-df-container {\n",
              "      display:flex;\n",
              "      flex-wrap:wrap;\n",
              "      gap: 12px;\n",
              "    }\n",
              "\n",
              "    .colab-df-convert {\n",
              "      background-color: #E8F0FE;\n",
              "      border: none;\n",
              "      border-radius: 50%;\n",
              "      cursor: pointer;\n",
              "      display: none;\n",
              "      fill: #1967D2;\n",
              "      height: 32px;\n",
              "      padding: 0 0 0 0;\n",
              "      width: 32px;\n",
              "    }\n",
              "\n",
              "    .colab-df-convert:hover {\n",
              "      background-color: #E2EBFA;\n",
              "      box-shadow: 0px 1px 2px rgba(60, 64, 67, 0.3), 0px 1px 3px 1px rgba(60, 64, 67, 0.15);\n",
              "      fill: #174EA6;\n",
              "    }\n",
              "\n",
              "    [theme=dark] .colab-df-convert {\n",
              "      background-color: #3B4455;\n",
              "      fill: #D2E3FC;\n",
              "    }\n",
              "\n",
              "    [theme=dark] .colab-df-convert:hover {\n",
              "      background-color: #434B5C;\n",
              "      box-shadow: 0px 1px 3px 1px rgba(0, 0, 0, 0.15);\n",
              "      filter: drop-shadow(0px 1px 2px rgba(0, 0, 0, 0.3));\n",
              "      fill: #FFFFFF;\n",
              "    }\n",
              "  </style>\n",
              "\n",
              "      <script>\n",
              "        const buttonEl =\n",
              "          document.querySelector('#df-29f1ad86-6a8b-4998-9745-afa7c11ef0e9 button.colab-df-convert');\n",
              "        buttonEl.style.display =\n",
              "          google.colab.kernel.accessAllowed ? 'block' : 'none';\n",
              "\n",
              "        async function convertToInteractive(key) {\n",
              "          const element = document.querySelector('#df-29f1ad86-6a8b-4998-9745-afa7c11ef0e9');\n",
              "          const dataTable =\n",
              "            await google.colab.kernel.invokeFunction('convertToInteractive',\n",
              "                                                     [key], {});\n",
              "          if (!dataTable) return;\n",
              "\n",
              "          const docLinkHtml = 'Like what you see? Visit the ' +\n",
              "            '<a target=\"_blank\" href=https://colab.research.google.com/notebooks/data_table.ipynb>data table notebook</a>'\n",
              "            + ' to learn more about interactive tables.';\n",
              "          element.innerHTML = '';\n",
              "          dataTable['output_type'] = 'display_data';\n",
              "          await google.colab.output.renderOutput(dataTable, element);\n",
              "          const docLink = document.createElement('div');\n",
              "          docLink.innerHTML = docLinkHtml;\n",
              "          element.appendChild(docLink);\n",
              "        }\n",
              "      </script>\n",
              "    </div>\n",
              "  </div>\n",
              "  "
            ]
          },
          "metadata": {},
          "execution_count": 118
        }
      ]
    },
    {
      "cell_type": "code",
      "source": [
        "testing.iloc[:, 27:42].describe()"
      ],
      "metadata": {
        "colab": {
          "base_uri": "https://localhost:8080/",
          "height": 364
        },
        "id": "5a8wuwXxhToj",
        "outputId": "486bc637-9478-4bb5-f384-2c521c598509"
      },
      "id": "5a8wuwXxhToj",
      "execution_count": null,
      "outputs": [
        {
          "output_type": "execute_result",
          "data": {
            "text/plain": [
              "         feat_DSSP_H    feat_DSSP_B    feat_DSSP_E    feat_DSSP_G  \\\n",
              "count  497166.000000  497166.000000  497166.000000  497166.000000   \n",
              "mean        0.308249       0.007446       0.138016       0.030473   \n",
              "std         0.461771       0.085970       0.344917       0.171884   \n",
              "min         0.000000       0.000000       0.000000       0.000000   \n",
              "25%         0.000000       0.000000       0.000000       0.000000   \n",
              "50%         0.000000       0.000000       0.000000       0.000000   \n",
              "75%         1.000000       0.000000       0.000000       0.000000   \n",
              "max         1.000000       1.000000       1.000000       1.000000   \n",
              "\n",
              "         feat_DSSP_I    feat_DSSP_T    feat_DSSP_S    feat_DSSP_6  \\\n",
              "count  497166.000000  497166.000000  497166.000000  497166.000000   \n",
              "mean        0.004212       0.092802       0.065608      -0.272655   \n",
              "std         0.064762       0.290155       0.247596       0.721538   \n",
              "min         0.000000       0.000000       0.000000      -3.358125   \n",
              "25%         0.000000       0.000000       0.000000      -0.602060   \n",
              "50%         0.000000       0.000000       0.000000      -0.301030   \n",
              "75%         0.000000       0.000000       0.000000       0.000000   \n",
              "max         1.000000       1.000000       1.000000       3.358125   \n",
              "\n",
              "         feat_DSSP_7    feat_DSSP_8    feat_DSSP_9   feat_DSSP_10  \\\n",
              "count  497166.000000  497166.000000  497166.000000  497166.000000   \n",
              "mean       -1.160675       0.263568      -1.140480      -0.052115   \n",
              "std         1.058466       0.737157       1.062049       0.653185   \n",
              "min        -4.000000      -3.358125      -4.000000      -3.357935   \n",
              "25%        -2.200000       0.000000      -2.200000      -0.301030   \n",
              "50%        -0.700000       0.301030      -0.600000       0.000000   \n",
              "75%        -0.200000       0.602060      -0.200000       0.301030   \n",
              "max         0.000000       3.358125      -0.000000       3.358125   \n",
              "\n",
              "        feat_DSSP_11   feat_DSSP_12   feat_DSSP_13  \n",
              "count  497166.000000  497166.000000  497166.000000  \n",
              "mean       -0.177757       0.048162      -0.201625  \n",
              "std         0.156652       0.704193       0.232904  \n",
              "min        -1.800000      -3.358125      -2.900000  \n",
              "25%        -0.200000      -0.301030      -0.200000  \n",
              "50%        -0.200000      -0.000000      -0.200000  \n",
              "75%        -0.100000       0.301030      -0.100000  \n",
              "max         0.000000       3.358316      -0.000000  "
            ],
            "text/html": [
              "\n",
              "  <div id=\"df-7526589e-7d67-4990-8b99-80eae11cbb74\">\n",
              "    <div class=\"colab-df-container\">\n",
              "      <div>\n",
              "<style scoped>\n",
              "    .dataframe tbody tr th:only-of-type {\n",
              "        vertical-align: middle;\n",
              "    }\n",
              "\n",
              "    .dataframe tbody tr th {\n",
              "        vertical-align: top;\n",
              "    }\n",
              "\n",
              "    .dataframe thead th {\n",
              "        text-align: right;\n",
              "    }\n",
              "</style>\n",
              "<table border=\"1\" class=\"dataframe\">\n",
              "  <thead>\n",
              "    <tr style=\"text-align: right;\">\n",
              "      <th></th>\n",
              "      <th>feat_DSSP_H</th>\n",
              "      <th>feat_DSSP_B</th>\n",
              "      <th>feat_DSSP_E</th>\n",
              "      <th>feat_DSSP_G</th>\n",
              "      <th>feat_DSSP_I</th>\n",
              "      <th>feat_DSSP_T</th>\n",
              "      <th>feat_DSSP_S</th>\n",
              "      <th>feat_DSSP_6</th>\n",
              "      <th>feat_DSSP_7</th>\n",
              "      <th>feat_DSSP_8</th>\n",
              "      <th>feat_DSSP_9</th>\n",
              "      <th>feat_DSSP_10</th>\n",
              "      <th>feat_DSSP_11</th>\n",
              "      <th>feat_DSSP_12</th>\n",
              "      <th>feat_DSSP_13</th>\n",
              "    </tr>\n",
              "  </thead>\n",
              "  <tbody>\n",
              "    <tr>\n",
              "      <th>count</th>\n",
              "      <td>497166.000000</td>\n",
              "      <td>497166.000000</td>\n",
              "      <td>497166.000000</td>\n",
              "      <td>497166.000000</td>\n",
              "      <td>497166.000000</td>\n",
              "      <td>497166.000000</td>\n",
              "      <td>497166.000000</td>\n",
              "      <td>497166.000000</td>\n",
              "      <td>497166.000000</td>\n",
              "      <td>497166.000000</td>\n",
              "      <td>497166.000000</td>\n",
              "      <td>497166.000000</td>\n",
              "      <td>497166.000000</td>\n",
              "      <td>497166.000000</td>\n",
              "      <td>497166.000000</td>\n",
              "    </tr>\n",
              "    <tr>\n",
              "      <th>mean</th>\n",
              "      <td>0.308249</td>\n",
              "      <td>0.007446</td>\n",
              "      <td>0.138016</td>\n",
              "      <td>0.030473</td>\n",
              "      <td>0.004212</td>\n",
              "      <td>0.092802</td>\n",
              "      <td>0.065608</td>\n",
              "      <td>-0.272655</td>\n",
              "      <td>-1.160675</td>\n",
              "      <td>0.263568</td>\n",
              "      <td>-1.140480</td>\n",
              "      <td>-0.052115</td>\n",
              "      <td>-0.177757</td>\n",
              "      <td>0.048162</td>\n",
              "      <td>-0.201625</td>\n",
              "    </tr>\n",
              "    <tr>\n",
              "      <th>std</th>\n",
              "      <td>0.461771</td>\n",
              "      <td>0.085970</td>\n",
              "      <td>0.344917</td>\n",
              "      <td>0.171884</td>\n",
              "      <td>0.064762</td>\n",
              "      <td>0.290155</td>\n",
              "      <td>0.247596</td>\n",
              "      <td>0.721538</td>\n",
              "      <td>1.058466</td>\n",
              "      <td>0.737157</td>\n",
              "      <td>1.062049</td>\n",
              "      <td>0.653185</td>\n",
              "      <td>0.156652</td>\n",
              "      <td>0.704193</td>\n",
              "      <td>0.232904</td>\n",
              "    </tr>\n",
              "    <tr>\n",
              "      <th>min</th>\n",
              "      <td>0.000000</td>\n",
              "      <td>0.000000</td>\n",
              "      <td>0.000000</td>\n",
              "      <td>0.000000</td>\n",
              "      <td>0.000000</td>\n",
              "      <td>0.000000</td>\n",
              "      <td>0.000000</td>\n",
              "      <td>-3.358125</td>\n",
              "      <td>-4.000000</td>\n",
              "      <td>-3.358125</td>\n",
              "      <td>-4.000000</td>\n",
              "      <td>-3.357935</td>\n",
              "      <td>-1.800000</td>\n",
              "      <td>-3.358125</td>\n",
              "      <td>-2.900000</td>\n",
              "    </tr>\n",
              "    <tr>\n",
              "      <th>25%</th>\n",
              "      <td>0.000000</td>\n",
              "      <td>0.000000</td>\n",
              "      <td>0.000000</td>\n",
              "      <td>0.000000</td>\n",
              "      <td>0.000000</td>\n",
              "      <td>0.000000</td>\n",
              "      <td>0.000000</td>\n",
              "      <td>-0.602060</td>\n",
              "      <td>-2.200000</td>\n",
              "      <td>0.000000</td>\n",
              "      <td>-2.200000</td>\n",
              "      <td>-0.301030</td>\n",
              "      <td>-0.200000</td>\n",
              "      <td>-0.301030</td>\n",
              "      <td>-0.200000</td>\n",
              "    </tr>\n",
              "    <tr>\n",
              "      <th>50%</th>\n",
              "      <td>0.000000</td>\n",
              "      <td>0.000000</td>\n",
              "      <td>0.000000</td>\n",
              "      <td>0.000000</td>\n",
              "      <td>0.000000</td>\n",
              "      <td>0.000000</td>\n",
              "      <td>0.000000</td>\n",
              "      <td>-0.301030</td>\n",
              "      <td>-0.700000</td>\n",
              "      <td>0.301030</td>\n",
              "      <td>-0.600000</td>\n",
              "      <td>0.000000</td>\n",
              "      <td>-0.200000</td>\n",
              "      <td>-0.000000</td>\n",
              "      <td>-0.200000</td>\n",
              "    </tr>\n",
              "    <tr>\n",
              "      <th>75%</th>\n",
              "      <td>1.000000</td>\n",
              "      <td>0.000000</td>\n",
              "      <td>0.000000</td>\n",
              "      <td>0.000000</td>\n",
              "      <td>0.000000</td>\n",
              "      <td>0.000000</td>\n",
              "      <td>0.000000</td>\n",
              "      <td>0.000000</td>\n",
              "      <td>-0.200000</td>\n",
              "      <td>0.602060</td>\n",
              "      <td>-0.200000</td>\n",
              "      <td>0.301030</td>\n",
              "      <td>-0.100000</td>\n",
              "      <td>0.301030</td>\n",
              "      <td>-0.100000</td>\n",
              "    </tr>\n",
              "    <tr>\n",
              "      <th>max</th>\n",
              "      <td>1.000000</td>\n",
              "      <td>1.000000</td>\n",
              "      <td>1.000000</td>\n",
              "      <td>1.000000</td>\n",
              "      <td>1.000000</td>\n",
              "      <td>1.000000</td>\n",
              "      <td>1.000000</td>\n",
              "      <td>3.358125</td>\n",
              "      <td>0.000000</td>\n",
              "      <td>3.358125</td>\n",
              "      <td>-0.000000</td>\n",
              "      <td>3.358125</td>\n",
              "      <td>0.000000</td>\n",
              "      <td>3.358316</td>\n",
              "      <td>-0.000000</td>\n",
              "    </tr>\n",
              "  </tbody>\n",
              "</table>\n",
              "</div>\n",
              "      <button class=\"colab-df-convert\" onclick=\"convertToInteractive('df-7526589e-7d67-4990-8b99-80eae11cbb74')\"\n",
              "              title=\"Convert this dataframe to an interactive table.\"\n",
              "              style=\"display:none;\">\n",
              "        \n",
              "  <svg xmlns=\"http://www.w3.org/2000/svg\" height=\"24px\"viewBox=\"0 0 24 24\"\n",
              "       width=\"24px\">\n",
              "    <path d=\"M0 0h24v24H0V0z\" fill=\"none\"/>\n",
              "    <path d=\"M18.56 5.44l.94 2.06.94-2.06 2.06-.94-2.06-.94-.94-2.06-.94 2.06-2.06.94zm-11 1L8.5 8.5l.94-2.06 2.06-.94-2.06-.94L8.5 2.5l-.94 2.06-2.06.94zm10 10l.94 2.06.94-2.06 2.06-.94-2.06-.94-.94-2.06-.94 2.06-2.06.94z\"/><path d=\"M17.41 7.96l-1.37-1.37c-.4-.4-.92-.59-1.43-.59-.52 0-1.04.2-1.43.59L10.3 9.45l-7.72 7.72c-.78.78-.78 2.05 0 2.83L4 21.41c.39.39.9.59 1.41.59.51 0 1.02-.2 1.41-.59l7.78-7.78 2.81-2.81c.8-.78.8-2.07 0-2.86zM5.41 20L4 18.59l7.72-7.72 1.47 1.35L5.41 20z\"/>\n",
              "  </svg>\n",
              "      </button>\n",
              "      \n",
              "  <style>\n",
              "    .colab-df-container {\n",
              "      display:flex;\n",
              "      flex-wrap:wrap;\n",
              "      gap: 12px;\n",
              "    }\n",
              "\n",
              "    .colab-df-convert {\n",
              "      background-color: #E8F0FE;\n",
              "      border: none;\n",
              "      border-radius: 50%;\n",
              "      cursor: pointer;\n",
              "      display: none;\n",
              "      fill: #1967D2;\n",
              "      height: 32px;\n",
              "      padding: 0 0 0 0;\n",
              "      width: 32px;\n",
              "    }\n",
              "\n",
              "    .colab-df-convert:hover {\n",
              "      background-color: #E2EBFA;\n",
              "      box-shadow: 0px 1px 2px rgba(60, 64, 67, 0.3), 0px 1px 3px 1px rgba(60, 64, 67, 0.15);\n",
              "      fill: #174EA6;\n",
              "    }\n",
              "\n",
              "    [theme=dark] .colab-df-convert {\n",
              "      background-color: #3B4455;\n",
              "      fill: #D2E3FC;\n",
              "    }\n",
              "\n",
              "    [theme=dark] .colab-df-convert:hover {\n",
              "      background-color: #434B5C;\n",
              "      box-shadow: 0px 1px 3px 1px rgba(0, 0, 0, 0.15);\n",
              "      filter: drop-shadow(0px 1px 2px rgba(0, 0, 0, 0.3));\n",
              "      fill: #FFFFFF;\n",
              "    }\n",
              "  </style>\n",
              "\n",
              "      <script>\n",
              "        const buttonEl =\n",
              "          document.querySelector('#df-7526589e-7d67-4990-8b99-80eae11cbb74 button.colab-df-convert');\n",
              "        buttonEl.style.display =\n",
              "          google.colab.kernel.accessAllowed ? 'block' : 'none';\n",
              "\n",
              "        async function convertToInteractive(key) {\n",
              "          const element = document.querySelector('#df-7526589e-7d67-4990-8b99-80eae11cbb74');\n",
              "          const dataTable =\n",
              "            await google.colab.kernel.invokeFunction('convertToInteractive',\n",
              "                                                     [key], {});\n",
              "          if (!dataTable) return;\n",
              "\n",
              "          const docLinkHtml = 'Like what you see? Visit the ' +\n",
              "            '<a target=\"_blank\" href=https://colab.research.google.com/notebooks/data_table.ipynb>data table notebook</a>'\n",
              "            + ' to learn more about interactive tables.';\n",
              "          element.innerHTML = '';\n",
              "          dataTable['output_type'] = 'display_data';\n",
              "          await google.colab.output.renderOutput(dataTable, element);\n",
              "          const docLink = document.createElement('div');\n",
              "          docLink.innerHTML = docLinkHtml;\n",
              "          element.appendChild(docLink);\n",
              "        }\n",
              "      </script>\n",
              "    </div>\n",
              "  </div>\n",
              "  "
            ]
          },
          "metadata": {},
          "execution_count": 117
        }
      ]
    },
    {
      "cell_type": "code",
      "source": [
        "testing.iloc[:, 42:].describe()"
      ],
      "metadata": {
        "colab": {
          "base_uri": "https://localhost:8080/",
          "height": 300
        },
        "id": "bE7a7vlL5l2f",
        "outputId": "0582e6fb-5fcd-47b7-f65d-08bbb6f13cdf"
      },
      "id": "bE7a7vlL5l2f",
      "execution_count": null,
      "outputs": [
        {
          "output_type": "execute_result",
          "data": {
            "text/plain": [
              "             coord_X        coord_Y        coord_Z          entry  \\\n",
              "count  497166.000000  497166.000000  497166.000000  497166.000000   \n",
              "mean       -3.927826       1.956133      -1.099622     368.714192   \n",
              "std        25.770530      20.641283      26.637590     205.691048   \n",
              "min      -149.393997    -114.931000    -152.839005       0.000000   \n",
              "25%       -18.850000      -9.518750     -16.964001     195.000000   \n",
              "50%        -2.881000       1.206000      -0.681000     374.000000   \n",
              "75%        11.469000      13.148000      14.147000     531.000000   \n",
              "max       162.250000     103.135002     176.059998     722.000000   \n",
              "\n",
              "         entry_index       y_Ligand  \n",
              "count  497166.000000  497166.000000  \n",
              "mean      535.495128       0.034705  \n",
              "std       665.740408       0.183031  \n",
              "min         0.000000       0.000000  \n",
              "25%       172.000000       0.000000  \n",
              "50%       365.000000       0.000000  \n",
              "75%       667.000000       0.000000  \n",
              "max      7384.000000       1.000000  "
            ],
            "text/html": [
              "\n",
              "  <div id=\"df-4c6d052a-b993-462f-a337-a4140006f8af\">\n",
              "    <div class=\"colab-df-container\">\n",
              "      <div>\n",
              "<style scoped>\n",
              "    .dataframe tbody tr th:only-of-type {\n",
              "        vertical-align: middle;\n",
              "    }\n",
              "\n",
              "    .dataframe tbody tr th {\n",
              "        vertical-align: top;\n",
              "    }\n",
              "\n",
              "    .dataframe thead th {\n",
              "        text-align: right;\n",
              "    }\n",
              "</style>\n",
              "<table border=\"1\" class=\"dataframe\">\n",
              "  <thead>\n",
              "    <tr style=\"text-align: right;\">\n",
              "      <th></th>\n",
              "      <th>coord_X</th>\n",
              "      <th>coord_Y</th>\n",
              "      <th>coord_Z</th>\n",
              "      <th>entry</th>\n",
              "      <th>entry_index</th>\n",
              "      <th>y_Ligand</th>\n",
              "    </tr>\n",
              "  </thead>\n",
              "  <tbody>\n",
              "    <tr>\n",
              "      <th>count</th>\n",
              "      <td>497166.000000</td>\n",
              "      <td>497166.000000</td>\n",
              "      <td>497166.000000</td>\n",
              "      <td>497166.000000</td>\n",
              "      <td>497166.000000</td>\n",
              "      <td>497166.000000</td>\n",
              "    </tr>\n",
              "    <tr>\n",
              "      <th>mean</th>\n",
              "      <td>-3.927826</td>\n",
              "      <td>1.956133</td>\n",
              "      <td>-1.099622</td>\n",
              "      <td>368.714192</td>\n",
              "      <td>535.495128</td>\n",
              "      <td>0.034705</td>\n",
              "    </tr>\n",
              "    <tr>\n",
              "      <th>std</th>\n",
              "      <td>25.770530</td>\n",
              "      <td>20.641283</td>\n",
              "      <td>26.637590</td>\n",
              "      <td>205.691048</td>\n",
              "      <td>665.740408</td>\n",
              "      <td>0.183031</td>\n",
              "    </tr>\n",
              "    <tr>\n",
              "      <th>min</th>\n",
              "      <td>-149.393997</td>\n",
              "      <td>-114.931000</td>\n",
              "      <td>-152.839005</td>\n",
              "      <td>0.000000</td>\n",
              "      <td>0.000000</td>\n",
              "      <td>0.000000</td>\n",
              "    </tr>\n",
              "    <tr>\n",
              "      <th>25%</th>\n",
              "      <td>-18.850000</td>\n",
              "      <td>-9.518750</td>\n",
              "      <td>-16.964001</td>\n",
              "      <td>195.000000</td>\n",
              "      <td>172.000000</td>\n",
              "      <td>0.000000</td>\n",
              "    </tr>\n",
              "    <tr>\n",
              "      <th>50%</th>\n",
              "      <td>-2.881000</td>\n",
              "      <td>1.206000</td>\n",
              "      <td>-0.681000</td>\n",
              "      <td>374.000000</td>\n",
              "      <td>365.000000</td>\n",
              "      <td>0.000000</td>\n",
              "    </tr>\n",
              "    <tr>\n",
              "      <th>75%</th>\n",
              "      <td>11.469000</td>\n",
              "      <td>13.148000</td>\n",
              "      <td>14.147000</td>\n",
              "      <td>531.000000</td>\n",
              "      <td>667.000000</td>\n",
              "      <td>0.000000</td>\n",
              "    </tr>\n",
              "    <tr>\n",
              "      <th>max</th>\n",
              "      <td>162.250000</td>\n",
              "      <td>103.135002</td>\n",
              "      <td>176.059998</td>\n",
              "      <td>722.000000</td>\n",
              "      <td>7384.000000</td>\n",
              "      <td>1.000000</td>\n",
              "    </tr>\n",
              "  </tbody>\n",
              "</table>\n",
              "</div>\n",
              "      <button class=\"colab-df-convert\" onclick=\"convertToInteractive('df-4c6d052a-b993-462f-a337-a4140006f8af')\"\n",
              "              title=\"Convert this dataframe to an interactive table.\"\n",
              "              style=\"display:none;\">\n",
              "        \n",
              "  <svg xmlns=\"http://www.w3.org/2000/svg\" height=\"24px\"viewBox=\"0 0 24 24\"\n",
              "       width=\"24px\">\n",
              "    <path d=\"M0 0h24v24H0V0z\" fill=\"none\"/>\n",
              "    <path d=\"M18.56 5.44l.94 2.06.94-2.06 2.06-.94-2.06-.94-.94-2.06-.94 2.06-2.06.94zm-11 1L8.5 8.5l.94-2.06 2.06-.94-2.06-.94L8.5 2.5l-.94 2.06-2.06.94zm10 10l.94 2.06.94-2.06 2.06-.94-2.06-.94-.94-2.06-.94 2.06-2.06.94z\"/><path d=\"M17.41 7.96l-1.37-1.37c-.4-.4-.92-.59-1.43-.59-.52 0-1.04.2-1.43.59L10.3 9.45l-7.72 7.72c-.78.78-.78 2.05 0 2.83L4 21.41c.39.39.9.59 1.41.59.51 0 1.02-.2 1.41-.59l7.78-7.78 2.81-2.81c.8-.78.8-2.07 0-2.86zM5.41 20L4 18.59l7.72-7.72 1.47 1.35L5.41 20z\"/>\n",
              "  </svg>\n",
              "      </button>\n",
              "      \n",
              "  <style>\n",
              "    .colab-df-container {\n",
              "      display:flex;\n",
              "      flex-wrap:wrap;\n",
              "      gap: 12px;\n",
              "    }\n",
              "\n",
              "    .colab-df-convert {\n",
              "      background-color: #E8F0FE;\n",
              "      border: none;\n",
              "      border-radius: 50%;\n",
              "      cursor: pointer;\n",
              "      display: none;\n",
              "      fill: #1967D2;\n",
              "      height: 32px;\n",
              "      padding: 0 0 0 0;\n",
              "      width: 32px;\n",
              "    }\n",
              "\n",
              "    .colab-df-convert:hover {\n",
              "      background-color: #E2EBFA;\n",
              "      box-shadow: 0px 1px 2px rgba(60, 64, 67, 0.3), 0px 1px 3px 1px rgba(60, 64, 67, 0.15);\n",
              "      fill: #174EA6;\n",
              "    }\n",
              "\n",
              "    [theme=dark] .colab-df-convert {\n",
              "      background-color: #3B4455;\n",
              "      fill: #D2E3FC;\n",
              "    }\n",
              "\n",
              "    [theme=dark] .colab-df-convert:hover {\n",
              "      background-color: #434B5C;\n",
              "      box-shadow: 0px 1px 3px 1px rgba(0, 0, 0, 0.15);\n",
              "      filter: drop-shadow(0px 1px 2px rgba(0, 0, 0, 0.3));\n",
              "      fill: #FFFFFF;\n",
              "    }\n",
              "  </style>\n",
              "\n",
              "      <script>\n",
              "        const buttonEl =\n",
              "          document.querySelector('#df-4c6d052a-b993-462f-a337-a4140006f8af button.colab-df-convert');\n",
              "        buttonEl.style.display =\n",
              "          google.colab.kernel.accessAllowed ? 'block' : 'none';\n",
              "\n",
              "        async function convertToInteractive(key) {\n",
              "          const element = document.querySelector('#df-4c6d052a-b993-462f-a337-a4140006f8af');\n",
              "          const dataTable =\n",
              "            await google.colab.kernel.invokeFunction('convertToInteractive',\n",
              "                                                     [key], {});\n",
              "          if (!dataTable) return;\n",
              "\n",
              "          const docLinkHtml = 'Like what you see? Visit the ' +\n",
              "            '<a target=\"_blank\" href=https://colab.research.google.com/notebooks/data_table.ipynb>data table notebook</a>'\n",
              "            + ' to learn more about interactive tables.';\n",
              "          element.innerHTML = '';\n",
              "          dataTable['output_type'] = 'display_data';\n",
              "          await google.colab.output.renderOutput(dataTable, element);\n",
              "          const docLink = document.createElement('div');\n",
              "          docLink.innerHTML = docLinkHtml;\n",
              "          element.appendChild(docLink);\n",
              "        }\n",
              "      </script>\n",
              "    </div>\n",
              "  </div>\n",
              "  "
            ]
          },
          "metadata": {},
          "execution_count": 234
        }
      ]
    },
    {
      "cell_type": "code",
      "source": [
        "testing.info()"
      ],
      "metadata": {
        "id": "Y55fHKw_bRCI"
      },
      "id": "Y55fHKw_bRCI",
      "execution_count": null,
      "outputs": []
    },
    {
      "cell_type": "code",
      "source": [
        "# Normalize\n",
        "# 'feat_PHI',\t'feat_PSI',\t'feat_TAU',\n",
        "# 'coord_X', 'coord_Y',\t'coord_Z',\n",
        "# 'feat_DSSP_6', 'feat_DSSP_7', 'feat_DSSP_8', 'feat_DSSP_9', 'feat_DSSP_10', 'feat_DSSP_11', 'feat_DSSP_12', 'feat_DSSP_13',\n",
        "norm_col = ['feat_BBSASA', 'feat_SCSASA', 'feat_pLDDT']\n",
        "log_col = ['feat_SCSASA', 'feat_DSSP_6', 'feat_DSSP_8', 'feat_DSSP_10', 'feat_DSSP_12', 'entry_index', 'entry']\n",
        "pos_col = ['feat_DSSP_7', 'feat_DSSP_9', 'feat_DSSP_11', 'feat_DSSP_13']\n",
        "range = ['0-100', '-1-220', '0-100', '-2281-2281', '-4-0', '-2281-2281', '-4-0', '-2281-2281', '-4-0', '-2281-2281', '-4-0', '-149-162', '-114-103', '-152-176', '0-7384', '0, 722']"
      ],
      "metadata": {
        "id": "qLIs5uA1cgQj"
      },
      "id": "qLIs5uA1cgQj",
      "execution_count": null,
      "outputs": []
    },
    {
      "cell_type": "code",
      "source": [
        "for col in pos_col:\n",
        "  testing[col] = testing[col].apply(lambda x:-x)"
      ],
      "metadata": {
        "id": "yvGfcjuqDp6D"
      },
      "id": "yvGfcjuqDp6D",
      "execution_count": null,
      "outputs": []
    },
    {
      "cell_type": "code",
      "source": [
        "def log(value):\n",
        "  if value > 0:\n",
        "    return np.log10(value)\n",
        "  elif value < 0:\n",
        "    value *= -1\n",
        "    return -np.log10(value)\n",
        "  else:\n",
        "    return 0"
      ],
      "metadata": {
        "id": "yZUDQ8S6NxpB"
      },
      "id": "yZUDQ8S6NxpB",
      "execution_count": null,
      "outputs": []
    },
    {
      "cell_type": "code",
      "source": [
        "for col in log_col:\n",
        "  testing[col] = testing[col].apply(lambda x:log(x))"
      ],
      "metadata": {
        "id": "KRk8fjmqD-JE"
      },
      "id": "KRk8fjmqD-JE",
      "execution_count": null,
      "outputs": []
    },
    {
      "cell_type": "code",
      "source": [
        "from sklearn.preprocessing import MinMaxScaler, Normalizer\n",
        "\n",
        "# MinMaxScaler is better\n",
        "transform_arr = []\n",
        "for col in norm_col:\n",
        "  temp = testing[col].values\n",
        "  temp = temp.reshape((-1, 1))\n",
        "  transformer = MinMaxScaler().fit(temp)\n",
        "  transform_arr.append(transformer)\n",
        "  testing[col] = transformer.transform(temp)\n",
        "  testing[col] = testing[col].apply(lambda x:2*x)\n",
        "  transformer = None"
      ],
      "metadata": {
        "id": "ZxX-XKiOgrzn"
      },
      "id": "ZxX-XKiOgrzn",
      "execution_count": null,
      "outputs": []
    },
    {
      "cell_type": "code",
      "source": [
        "print(transform_arr)"
      ],
      "metadata": {
        "colab": {
          "base_uri": "https://localhost:8080/"
        },
        "id": "nuSv2YSPFyUg",
        "outputId": "175d9ec3-86ba-40f9-c600-a285086babc1"
      },
      "id": "nuSv2YSPFyUg",
      "execution_count": null,
      "outputs": [
        {
          "output_type": "stream",
          "name": "stdout",
          "text": [
            "[MinMaxScaler(), MinMaxScaler(), MinMaxScaler(), MinMaxScaler(), MinMaxScaler(), MinMaxScaler(), MinMaxScaler(), MinMaxScaler(), MinMaxScaler(), MinMaxScaler(), MinMaxScaler(), MinMaxScaler(), MinMaxScaler(), MinMaxScaler(), MinMaxScaler(), MinMaxScaler(), MinMaxScaler(), MinMaxScaler(), MinMaxScaler()]\n"
          ]
        }
      ]
    },
    {
      "cell_type": "code",
      "source": [
        "df_train = testing"
      ],
      "metadata": {
        "id": "q6hoCu8NKk2u"
      },
      "id": "q6hoCu8NKk2u",
      "execution_count": null,
      "outputs": []
    },
    {
      "cell_type": "markdown",
      "id": "b84b49b6",
      "metadata": {
        "id": "b84b49b6"
      },
      "source": [
        "# Test Train Val"
      ]
    },
    {
      "cell_type": "code",
      "execution_count": null,
      "id": "92eca4c5",
      "metadata": {
        "id": "92eca4c5"
      },
      "outputs": [],
      "source": [
        "from sklearn.model_selection import train_test_split\n",
        "\n",
        "X_train, X_test, y_train, y_test = train_test_split(df_train.drop([\"y_Ligand\"], axis=1), df_train[\"y_Ligand\"], test_size=0.2, random_state=42)"
      ]
    },
    {
      "cell_type": "code",
      "execution_count": null,
      "id": "3325b962",
      "metadata": {
        "id": "3325b962"
      },
      "outputs": [],
      "source": [
        "without_categorical_columns = [col for col in X_train.columns if X_train[col].dtype != \"O\"]"
      ]
    },
    {
      "cell_type": "code",
      "source": [
        "print(without_categorical_columns)"
      ],
      "metadata": {
        "colab": {
          "base_uri": "https://localhost:8080/"
        },
        "id": "Ie1POcf-Zux8",
        "outputId": "1a5467f0-66f8-4590-e212-ff9743a91225"
      },
      "id": "Ie1POcf-Zux8",
      "execution_count": null,
      "outputs": [
        {
          "output_type": "stream",
          "name": "stdout",
          "text": [
            "['feat_A', 'feat_C', 'feat_D', 'feat_E', 'feat_F', 'feat_G', 'feat_H', 'feat_I', 'feat_K', 'feat_L', 'feat_M', 'feat_N', 'feat_P', 'feat_Q', 'feat_R', 'feat_S', 'feat_T', 'feat_V', 'feat_W', 'feat_Y', 'feat_PHI', 'feat_PSI', 'feat_TAU', 'feat_THETA', 'feat_BBSASA', 'feat_SCSASA', 'feat_pLDDT', 'feat_DSSP_H', 'feat_DSSP_B', 'feat_DSSP_E', 'feat_DSSP_G', 'feat_DSSP_I', 'feat_DSSP_T', 'feat_DSSP_S', 'feat_DSSP_6', 'feat_DSSP_7', 'feat_DSSP_8', 'feat_DSSP_9', 'feat_DSSP_10', 'feat_DSSP_11', 'feat_DSSP_12', 'feat_DSSP_13', 'coord_X', 'coord_Y', 'coord_Z', 'entry_index', 'entry']\n"
          ]
        }
      ]
    },
    {
      "cell_type": "code",
      "source": [
        "# My Ram is exploding :(\n",
        "df_train = None\n",
        "df_train_entry = None\n",
        "onehotlabels = None"
      ],
      "metadata": {
        "id": "MrnH73T52R9n"
      },
      "id": "MrnH73T52R9n",
      "execution_count": null,
      "outputs": []
    },
    {
      "cell_type": "markdown",
      "source": [
        "# OverSampling"
      ],
      "metadata": {
        "id": "JGiW-tVjR_5Z"
      },
      "id": "JGiW-tVjR_5Z"
    },
    {
      "cell_type": "code",
      "source": [
        "from sklearn.cluster import MiniBatchKMeans\n",
        "from collections import Counter\n",
        "from numpy.random import RandomState\n",
        "from imblearn.over_sampling import SMOTE, KMeansSMOTE\n",
        "from imblearn.combine import SMOTEENN, SMOTETomek\n",
        "\n",
        "sm = SMOTE(random_state=49)\n",
        "ksm = KMeansSMOTE(kmeans_estimator=MiniBatchKMeans(n_init=1, random_state=0), random_state=40)\n",
        "smt = SMOTETomek()\n",
        "sme = SMOTEENN()"
      ],
      "metadata": {
        "id": "XKPpdgwjIKm4"
      },
      "id": "XKPpdgwjIKm4",
      "execution_count": null,
      "outputs": []
    },
    {
      "cell_type": "code",
      "source": [
        "print('Original dataset shape %s' % Counter(y_train))\n",
        "X_train_res, y_train_res = sm.fit_resample(X_train, y_train)\n",
        "\n",
        "print('Resampled dataset shape %s' % Counter(y_train_res))"
      ],
      "metadata": {
        "colab": {
          "base_uri": "https://localhost:8080/"
        },
        "id": "Z3vm66C8Iz5L",
        "outputId": "8b7a7b8e-7bed-403b-b3fb-7094122bf35c"
      },
      "id": "Z3vm66C8Iz5L",
      "execution_count": null,
      "outputs": [
        {
          "output_type": "stream",
          "name": "stdout",
          "text": [
            "Original dataset shape Counter({0: 383874, 1: 13858})\n",
            "Resampled dataset shape Counter({0: 383874, 1: 383874})\n"
          ]
        }
      ]
    },
    {
      "cell_type": "markdown",
      "source": [
        "# UnderSampling"
      ],
      "metadata": {
        "id": "vCixMUpfSCaF"
      },
      "id": "vCixMUpfSCaF"
    },
    {
      "cell_type": "code",
      "source": [
        "from imblearn.under_sampling import NearMiss\n",
        "\n",
        "nm = NearMiss(version=1, n_neighbors=3)"
      ],
      "metadata": {
        "id": "SOpLZp7oRqEV"
      },
      "id": "SOpLZp7oRqEV",
      "execution_count": null,
      "outputs": []
    },
    {
      "cell_type": "code",
      "source": [
        "print('Original dataset shape %s' % Counter(y_train))\n",
        "X_train_res, y_train_res = nm.fit_resample(X_train, y_train)\n",
        "\n",
        "print('Resampled dataset shape %s' % Counter(y_train_res))"
      ],
      "metadata": {
        "colab": {
          "base_uri": "https://localhost:8080/"
        },
        "id": "NXQSZCV9Ui4w",
        "outputId": "a41e8fdc-663b-4a6d-df0f-48c6be6eafc6"
      },
      "id": "NXQSZCV9Ui4w",
      "execution_count": null,
      "outputs": [
        {
          "output_type": "stream",
          "name": "stdout",
          "text": [
            "Original dataset shape Counter({0: 383874, 1: 13858})\n",
            "Resampled dataset shape Counter({0: 13858, 1: 13858})\n"
          ]
        }
      ]
    },
    {
      "cell_type": "code",
      "source": [
        "from imblearn.under_sampling import OneSidedSelection\n",
        "\n",
        "oss = OneSidedSelection()"
      ],
      "metadata": {
        "id": "TuNRB55UVipw"
      },
      "id": "TuNRB55UVipw",
      "execution_count": null,
      "outputs": []
    },
    {
      "cell_type": "code",
      "source": [
        "print('Original dataset shape %s' % Counter(y_train))\n",
        "X_train_res, y_train_res = oss.fit_resample(X_train, y_train)\n",
        "\n",
        "print('Resampled dataset shape %s' % Counter(y_train_res))"
      ],
      "metadata": {
        "id": "mhdmGKs0WI8d"
      },
      "id": "mhdmGKs0WI8d",
      "execution_count": null,
      "outputs": []
    },
    {
      "cell_type": "code",
      "source": [
        "X_train, y_train = X_train_res, y_train_res"
      ],
      "metadata": {
        "id": "o0y41w-lLXpy"
      },
      "id": "o0y41w-lLXpy",
      "execution_count": null,
      "outputs": []
    },
    {
      "cell_type": "code",
      "source": [
        "from imblearn.under_sampling import RepeatedEditedNearestNeighbours\n",
        "\n",
        "renn = RepeatedEditedNearestNeighbours()"
      ],
      "metadata": {
        "id": "33g-RVg7Mez7"
      },
      "id": "33g-RVg7Mez7",
      "execution_count": null,
      "outputs": []
    },
    {
      "cell_type": "code",
      "source": [
        "print('Original dataset shape %s' % Counter(y_train))\n",
        "X_train_res, y_train_res = renn.fit_resample(X_train, y_train)\n",
        "\n",
        "print('Resampled dataset shape %s' % Counter(y_train_res))"
      ],
      "metadata": {
        "id": "revQV4eGMvOl"
      },
      "id": "revQV4eGMvOl",
      "execution_count": null,
      "outputs": []
    },
    {
      "cell_type": "markdown",
      "source": [
        "# LazyPredict\n",
        "UPDATE: I can't do this cuz I am poor and I don't have gpu, colab stopped me when ram exploded :(\n"
      ],
      "metadata": {
        "id": "kQUbQ0Sxv6ap"
      },
      "id": "kQUbQ0Sxv6ap"
    },
    {
      "cell_type": "code",
      "source": [
        "!pip install lazypredict\n",
        "from lazypredict.Supervised import LazyClassifier, LazyRegressor"
      ],
      "metadata": {
        "colab": {
          "base_uri": "https://localhost:8080/"
        },
        "id": "Ax-6imItv15Q",
        "outputId": "15778a6d-f42a-4f90-b4ff-a005675e5666"
      },
      "id": "Ax-6imItv15Q",
      "execution_count": null,
      "outputs": [
        {
          "output_type": "stream",
          "name": "stdout",
          "text": [
            "Looking in indexes: https://pypi.org/simple, https://us-python.pkg.dev/colab-wheels/public/simple/\n",
            "Collecting lazypredict\n",
            "  Downloading lazypredict-0.2.12-py2.py3-none-any.whl (12 kB)\n",
            "Requirement already satisfied: tqdm in /usr/local/lib/python3.8/dist-packages (from lazypredict) (4.64.1)\n",
            "Requirement already satisfied: pandas in /usr/local/lib/python3.8/dist-packages (from lazypredict) (1.3.5)\n",
            "Requirement already satisfied: lightgbm in /usr/local/lib/python3.8/dist-packages (from lazypredict) (2.2.3)\n",
            "Requirement already satisfied: click in /usr/local/lib/python3.8/dist-packages (from lazypredict) (7.1.2)\n",
            "Requirement already satisfied: joblib in /usr/local/lib/python3.8/dist-packages (from lazypredict) (1.2.0)\n",
            "Requirement already satisfied: scikit-learn in /usr/local/lib/python3.8/dist-packages (from lazypredict) (1.0.2)\n",
            "Requirement already satisfied: xgboost in /usr/local/lib/python3.8/dist-packages (from lazypredict) (0.90)\n",
            "Requirement already satisfied: scipy in /usr/local/lib/python3.8/dist-packages (from lightgbm->lazypredict) (1.7.3)\n",
            "Requirement already satisfied: numpy in /usr/local/lib/python3.8/dist-packages (from lightgbm->lazypredict) (1.21.6)\n",
            "Requirement already satisfied: python-dateutil>=2.7.3 in /usr/local/lib/python3.8/dist-packages (from pandas->lazypredict) (2.8.2)\n",
            "Requirement already satisfied: pytz>=2017.3 in /usr/local/lib/python3.8/dist-packages (from pandas->lazypredict) (2022.7.1)\n",
            "Requirement already satisfied: threadpoolctl>=2.0.0 in /usr/local/lib/python3.8/dist-packages (from scikit-learn->lazypredict) (3.1.0)\n",
            "Requirement already satisfied: six>=1.5 in /usr/local/lib/python3.8/dist-packages (from python-dateutil>=2.7.3->pandas->lazypredict) (1.15.0)\n",
            "Installing collected packages: lazypredict\n",
            "Successfully installed lazypredict-0.2.12\n"
          ]
        }
      ]
    },
    {
      "cell_type": "code",
      "source": [
        "# Classification\n",
        "clf = LazyClassifier(predictions=True)\n",
        "models, predictions = clf.fit(X_train, X_test, y_train, y_test)"
      ],
      "metadata": {
        "colab": {
          "base_uri": "https://localhost:8080/"
        },
        "id": "q9PKAQclw4BG",
        "outputId": "b9bb1a9a-f7f8-4a05-da93-39029c50ce40"
      },
      "id": "q9PKAQclw4BG",
      "execution_count": null,
      "outputs": [
        {
          "output_type": "stream",
          "name": "stderr",
          "text": [
            " 38%|███▊      | 11/29 [34:46<1:36:42, 322.37s/it]"
          ]
        }
      ]
    },
    {
      "cell_type": "code",
      "source": [
        "# Regression\n",
        "reg = LazyRegressor(predictions=True)\n",
        "models, predictions = reg.fit(X_train, X_test, y_train, y_test)"
      ],
      "metadata": {
        "colab": {
          "base_uri": "https://localhost:8080/"
        },
        "id": "7rFP2achxt1L",
        "outputId": "3eac219b-1f8f-4133-c54c-8880482903cf"
      },
      "id": "7rFP2achxt1L",
      "execution_count": null,
      "outputs": [
        {
          "output_type": "stream",
          "name": "stderr",
          "text": [
            " 24%|██▍       | 10/42 [04:37<16:25, 30.79s/it]"
          ]
        }
      ]
    },
    {
      "cell_type": "markdown",
      "source": [
        "# XGBoost\n"
      ],
      "metadata": {
        "id": "liiLo9Xvv4c3"
      },
      "id": "liiLo9Xvv4c3"
    },
    {
      "cell_type": "code",
      "execution_count": null,
      "id": "35c56708",
      "metadata": {
        "id": "35c56708"
      },
      "outputs": [],
      "source": [
        "import xgboost \n",
        "xgb = xgboost.XGBClassifier(scale_pos_weight=(1), reg_lambda=1.1)"
      ]
    },
    {
      "cell_type": "code",
      "source": [
        "xgb.fit(X_train[without_categorical_columns], y_train)"
      ],
      "metadata": {
        "colab": {
          "base_uri": "https://localhost:8080/"
        },
        "id": "rUq1xEMAPIEo",
        "outputId": "da83aff4-95b5-4fa7-dc0d-5dd7640ab60c"
      },
      "id": "rUq1xEMAPIEo",
      "execution_count": null,
      "outputs": [
        {
          "output_type": "execute_result",
          "data": {
            "text/plain": [
              "XGBClassifier(reg_lambda=1.1)"
            ]
          },
          "metadata": {},
          "execution_count": 25
        }
      ]
    },
    {
      "cell_type": "code",
      "execution_count": null,
      "id": "d5a8d98a",
      "metadata": {
        "id": "d5a8d98a"
      },
      "outputs": [],
      "source": [
        "y_test_pred = xgb.predict(X_test[without_categorical_columns])"
      ]
    },
    {
      "cell_type": "code",
      "source": [
        "y_test_pred"
      ],
      "metadata": {
        "colab": {
          "base_uri": "https://localhost:8080/"
        },
        "id": "dOcyQK4Rf8_4",
        "outputId": "f0fbb500-622f-4165-b741-ad25ff936a2c"
      },
      "id": "dOcyQK4Rf8_4",
      "execution_count": null,
      "outputs": [
        {
          "output_type": "execute_result",
          "data": {
            "text/plain": [
              "array([0, 0, 0, ..., 0, 0, 0])"
            ]
          },
          "metadata": {},
          "execution_count": 32
        }
      ]
    },
    {
      "cell_type": "markdown",
      "source": [
        "# LGBM\n",
        "This is the best, fast fit and better ROC, F1, PR"
      ],
      "metadata": {
        "id": "p5sKpqimPZjC"
      },
      "id": "p5sKpqimPZjC"
    },
    {
      "cell_type": "code",
      "source": [
        "clf = None\n",
        "dw = 0.2\n",
        "class_weight = {0: weight_for_0, 1: weight_for_1*dw}\n",
        "print(class_weight[0])\n",
        "print(class_weight[1])"
      ],
      "metadata": {
        "colab": {
          "base_uri": "https://localhost:8080/"
        },
        "id": "QZHrEpOGdXZx",
        "outputId": "265acc84-ba55-4de4-9c4d-81dc8d50bd09"
      },
      "id": "QZHrEpOGdXZx",
      "execution_count": null,
      "outputs": [
        {
          "output_type": "stream",
          "name": "stdout",
          "text": [
            "0.5179762123055893\n",
            "2.881453575982381\n"
          ]
        }
      ]
    },
    {
      "cell_type": "code",
      "source": [
        "import lightgbm as lgb\n",
        "\n",
        "clf = lgb.LGBMClassifier(class_weight=class_weight) "
      ],
      "metadata": {
        "id": "h6BrdRz9P4-Q"
      },
      "id": "h6BrdRz9P4-Q",
      "execution_count": null,
      "outputs": []
    },
    {
      "cell_type": "code",
      "source": [
        "clf.fit(X_train[without_categorical_columns], y_train)"
      ],
      "metadata": {
        "colab": {
          "base_uri": "https://localhost:8080/"
        },
        "id": "vbj63dj6P6_c",
        "outputId": "bf1d7b94-78fb-4fcb-b63c-74a6cb2f0ab3"
      },
      "id": "vbj63dj6P6_c",
      "execution_count": null,
      "outputs": [
        {
          "output_type": "execute_result",
          "data": {
            "text/plain": [
              "LGBMClassifier(class_weight={0: 0.5179762123055893, 1: 2.881453575982381})"
            ]
          },
          "metadata": {},
          "execution_count": 155
        }
      ]
    },
    {
      "cell_type": "code",
      "source": [
        "y_test_pred2 = clf.predict(X_test[without_categorical_columns])"
      ],
      "metadata": {
        "id": "UPxqEIjyQUs9"
      },
      "id": "UPxqEIjyQUs9",
      "execution_count": null,
      "outputs": []
    },
    {
      "cell_type": "code",
      "source": [
        "y_test_pred2"
      ],
      "metadata": {
        "colab": {
          "base_uri": "https://localhost:8080/"
        },
        "id": "4QvG487zQZoE",
        "outputId": "f4e60600-d68c-4e65-878a-45f1f7a3e5cd"
      },
      "id": "4QvG487zQZoE",
      "execution_count": null,
      "outputs": [
        {
          "output_type": "execute_result",
          "data": {
            "text/plain": [
              "array([0, 0, 0, ..., 0, 0, 0])"
            ]
          },
          "metadata": {},
          "execution_count": 30
        }
      ]
    },
    {
      "cell_type": "markdown",
      "source": [
        "# Support Vector Machine\n",
        "RAM exploded Don't Use"
      ],
      "metadata": {
        "id": "_MRcrxRnHaM8"
      },
      "id": "_MRcrxRnHaM8"
    },
    {
      "cell_type": "code",
      "source": [
        "from sklearn.svm import SVC\n",
        "from sklearn.pipeline import make_pipeline\n",
        "from sklearn.preprocessing import StandardScaler\n",
        "svc = make_pipeline(StandardScaler(), SVC(gamma='auto'))"
      ],
      "metadata": {
        "id": "624U_KcrHchZ"
      },
      "id": "624U_KcrHchZ",
      "execution_count": null,
      "outputs": []
    },
    {
      "cell_type": "code",
      "source": [
        "svc.fit(X_train[without_categorical_columns], y_train)"
      ],
      "metadata": {
        "id": "Cm0h6ZfKHmkF"
      },
      "id": "Cm0h6ZfKHmkF",
      "execution_count": null,
      "outputs": []
    },
    {
      "cell_type": "code",
      "source": [
        "y_test_pred3 = svc.predict(X_test[without_categorical_columns])"
      ],
      "metadata": {
        "id": "OjkHF8L6HpPc"
      },
      "id": "OjkHF8L6HpPc",
      "execution_count": null,
      "outputs": []
    },
    {
      "cell_type": "code",
      "source": [
        "y_test_pred3"
      ],
      "metadata": {
        "id": "pDqPrwRtHuFE"
      },
      "id": "pDqPrwRtHuFE",
      "execution_count": null,
      "outputs": []
    },
    {
      "cell_type": "markdown",
      "source": [
        "# Evaluation"
      ],
      "metadata": {
        "id": "FVKppAGWQRlh"
      },
      "id": "FVKppAGWQRlh"
    },
    {
      "cell_type": "code",
      "execution_count": null,
      "id": "8279ec2a",
      "metadata": {
        "id": "8279ec2a",
        "outputId": "4617c10f-a988-4bc8-f675-36044055eaba",
        "colab": {
          "base_uri": "https://localhost:8080/"
        }
      },
      "outputs": [
        {
          "output_type": "stream",
          "name": "stdout",
          "text": [
            "XGBoost:\n",
            "Accuracy: 0.9658466922782951\n",
            "ROC-AUC: 0.5 \n",
            "PR-AUC 0.5170766538608524\n",
            "\n",
            "\n",
            "LGBM:\n",
            "Accuracy: 0.9544823702154193\n",
            "ROC-AUC: 0.6744896338269714 \n",
            "PR-AUC 0.37069971930569\n",
            "\n",
            "\n"
          ]
        }
      ],
      "source": [
        "from sklearn import metrics\n",
        "from sklearn.metrics import accuracy_score\n",
        "\n",
        "accuracy=accuracy_score(y_test_pred, y_test)\n",
        "print(f\"XGBoost:\\nAccuracy: {accuracy}\")\n",
        "\n",
        "fpr, tpr, thresholds = metrics.roc_curve(y_test, y_test_pred, pos_label=1)\n",
        "auc_roc = metrics.auc(fpr, tpr)\n",
        "\n",
        "precision, recall, _ = metrics.precision_recall_curve(y_test, y_test_pred)\n",
        "auc_pr = metrics.auc(recall, precision)\n",
        "\n",
        "print(f\"ROC-AUC: {auc_roc} \\nPR-AUC {auc_pr}\\n\\n\")\n",
        "\n",
        "accuracy=accuracy_score(y_test_pred2, y_test)\n",
        "print(f\"LGBM:\\nAccuracy: {accuracy}\")\n",
        "\n",
        "fpr, tpr, thresholds = metrics.roc_curve(y_test, y_test_pred2, pos_label=1)\n",
        "auc_roc = metrics.auc(fpr, tpr)\n",
        "\n",
        "precision, recall, _ = metrics.precision_recall_curve(y_test, y_test_pred2)\n",
        "auc_pr = metrics.auc(recall, precision)\n",
        "\n",
        "print(f\"ROC-AUC: {auc_roc} \\nPR-AUC {auc_pr}\\n\\n\")\n",
        "\n",
        "# accuracy=accuracy_score(y_test_pred3, y_test)\n",
        "# print(f\"LGBM:\\nAccuracy: {accuracy}\")\n",
        "\n",
        "# fpr, tpr, thresholds = metrics.roc_curve(y_test, y_test_pred3, pos_label=1)\n",
        "# auc_roc = metrics.auc(fpr, tpr)\n",
        "\n",
        "# precision, recall, _ = metrics.precision_recall_curve(y_test, y_test_pred3)\n",
        "# auc_pr = metrics.auc(recall, precision)\n",
        "\n",
        "# print(f\"ROC-AUC: {auc_roc} \\nPR-AUC {auc_pr}\")"
      ]
    },
    {
      "cell_type": "code",
      "source": [
        "# Honestly, the ROC is unimportant in Imbalanced Datset\n",
        "# F1 Score is more Important"
      ],
      "metadata": {
        "id": "6dcTPhR_jMnP"
      },
      "id": "6dcTPhR_jMnP",
      "execution_count": null,
      "outputs": []
    },
    {
      "cell_type": "code",
      "source": [
        "plot_roc('ROC curve', y_test, y_test_pred)"
      ],
      "metadata": {
        "colab": {
          "base_uri": "https://localhost:8080/",
          "height": 283
        },
        "id": "RODQCeUJp5aI",
        "outputId": "74b274ce-fed6-409c-fc3a-163c96eeca1e"
      },
      "id": "RODQCeUJp5aI",
      "execution_count": null,
      "outputs": [
        {
          "output_type": "display_data",
          "data": {
            "text/plain": [
              "<Figure size 432x288 with 1 Axes>"
            ],
            "image/png": "[encoded data removed]"
          },
          "metadata": {
            "needs_background": "light"
          }
        }
      ]
    },
    {
      "cell_type": "code",
      "source": [
        "plot_roc('ROC curve', y_test, y_test_pred2)"
      ],
      "metadata": {
        "id": "4raKr_KAqa0X"
      },
      "id": "4raKr_KAqa0X",
      "execution_count": null,
      "outputs": []
    },
    {
      "cell_type": "code",
      "source": [
        "# Confusion Matrix\n",
        "from sklearn.metrics import confusion_matrix, ConfusionMatrixDisplay"
      ],
      "metadata": {
        "id": "W6uNbpBUnwkA"
      },
      "id": "W6uNbpBUnwkA",
      "execution_count": null,
      "outputs": []
    },
    {
      "cell_type": "code",
      "source": [
        "# XGB\n",
        "cm = confusion_matrix(y_test, y_test_pred)\n",
        "disp = ConfusionMatrixDisplay(confusion_matrix=cm)\n",
        "\n",
        "disp.plot()\n",
        "plt.grid(False)\n",
        "plt.show()"
      ],
      "metadata": {
        "id": "QsdaQJBYn8lE"
      },
      "id": "QsdaQJBYn8lE",
      "execution_count": null,
      "outputs": []
    },
    {
      "cell_type": "code",
      "source": [
        "# LCBM\n",
        "cm = confusion_matrix(y_test, y_test_pred2)\n",
        "disp = ConfusionMatrixDisplay(confusion_matrix=cm)\n",
        "\n",
        "disp.plot()\n",
        "plt.grid(False)\n",
        "plt.show()"
      ],
      "metadata": {
        "colab": {
          "base_uri": "https://localhost:8080/",
          "height": 279
        },
        "id": "AxeKbT8Hn_Us",
        "outputId": "0fae61df-a6ed-4e89-dbda-6757502805ed"
      },
      "id": "AxeKbT8Hn_Us",
      "execution_count": null,
      "outputs": [
        {
          "output_type": "display_data",
          "data": {
            "text/plain": [
              "<Figure size 432x288 with 2 Axes>"
            ],
            "image/png": "[encoded data removed]"
          },
          "metadata": {
            "needs_background": "light"
          }
        }
      ]
    },
    {
      "cell_type": "code",
      "source": [
        "# F1 Score for both\n",
        "from sklearn.metrics import f1_score\n",
        "\n",
        "XGB_F1 = f1_score(y_test, y_test_pred)\n",
        "LCBM_F1 = f1_score(y_test, y_test_pred2)\n",
        "\n",
        "print(f\"The F1 Score for XGB is {XGB_F1}\")\n",
        "print(f\"The F1 Score for LCBM is {LCBM_F1}\")"
      ],
      "metadata": {
        "id": "rUMly9WKoTX0"
      },
      "id": "rUMly9WKoTX0",
      "execution_count": null,
      "outputs": []
    },
    {
      "cell_type": "code",
      "source": [
        "# Classification report\n",
        "from sklearn.metrics import classification_report\n",
        "print(classification_report(y_test, y_test_pred))\n",
        "print(classification_report(y_test, y_test_pred2))"
      ],
      "metadata": {
        "colab": {
          "base_uri": "https://localhost:8080/"
        },
        "id": "buafafKiMDTT",
        "outputId": "29dfc939-fc23-4176-afe8-6d1e5b63c265"
      },
      "id": "buafafKiMDTT",
      "execution_count": null,
      "outputs": [
        {
          "output_type": "stream",
          "name": "stderr",
          "text": [
            "/usr/local/lib/python3.8/dist-packages/sklearn/metrics/_classification.py:1318: UndefinedMetricWarning: Precision and F-score are ill-defined and being set to 0.0 in labels with no predicted samples. Use `zero_division` parameter to control this behavior.\n",
            "  _warn_prf(average, modifier, msg_start, len(result))\n",
            "/usr/local/lib/python3.8/dist-packages/sklearn/metrics/_classification.py:1318: UndefinedMetricWarning: Precision and F-score are ill-defined and being set to 0.0 in labels with no predicted samples. Use `zero_division` parameter to control this behavior.\n",
            "  _warn_prf(average, modifier, msg_start, len(result))\n",
            "/usr/local/lib/python3.8/dist-packages/sklearn/metrics/_classification.py:1318: UndefinedMetricWarning: Precision and F-score are ill-defined and being set to 0.0 in labels with no predicted samples. Use `zero_division` parameter to control this behavior.\n",
            "  _warn_prf(average, modifier, msg_start, len(result))\n"
          ]
        },
        {
          "output_type": "stream",
          "name": "stdout",
          "text": [
            "              precision    recall  f1-score   support\n",
            "\n",
            "           0       0.97      1.00      0.98     96038\n",
            "           1       0.00      0.00      0.00      3396\n",
            "\n",
            "    accuracy                           0.97     99434\n",
            "   macro avg       0.48      0.50      0.49     99434\n",
            "weighted avg       0.93      0.97      0.95     99434\n",
            "\n",
            "              precision    recall  f1-score   support\n",
            "\n",
            "           0       0.98      0.98      0.98     96038\n",
            "           1       0.35      0.37      0.36      3396\n",
            "\n",
            "    accuracy                           0.95     99434\n",
            "   macro avg       0.66      0.67      0.67     99434\n",
            "weighted avg       0.96      0.95      0.96     99434\n",
            "\n"
          ]
        }
      ]
    },
    {
      "cell_type": "code",
      "source": [
        "# In terms of F1 Score, dw = 0.2 is the best with 0.98 and 0.36 weighted of 0.96\n",
        "# In terms of Better Result, as identifying as much positive dw = 0.5"
      ],
      "metadata": {
        "id": "EKBLcpq4itPk"
      },
      "id": "EKBLcpq4itPk",
      "execution_count": null,
      "outputs": []
    },
    {
      "cell_type": "markdown",
      "id": "742476a7-4fd4-4ec1-a265-037d62f46ecd",
      "metadata": {
        "id": "742476a7-4fd4-4ec1-a265-037d62f46ecd"
      },
      "source": [
        "## Submission Instructions\n",
        "\n",
        "- Run inference on the test set and save the inference results as a csv file, the file should look like this\n",
        "```\n",
        "id,Predicted\n",
        "0,True\n",
        "1,False\n",
        "2,True\n",
        "3,False\n",
        "....\n",
        "```\n",
        "- Submit the csv on Kaggle\n",
        "- Automatic evaluation will be done with ROC-AUC\n",
        "- Top submissions will be further evaluated by the mean of ROC-AUC and PR-AUC"
      ]
    },
    {
      "cell_type": "code",
      "execution_count": null,
      "id": "175839a9-0039-4ca8-bfb1-ecfc5aa16e47",
      "metadata": {
        "execution": {
          "iopub.execute_input": "2023-02-05T15:44:20.677130Z",
          "iopub.status.busy": "2023-02-05T15:44:20.677074Z",
          "iopub.status.idle": "2023-02-05T15:44:21.057212Z",
          "shell.execute_reply": "2023-02-05T15:44:21.056956Z",
          "shell.execute_reply.started": "2023-02-05T15:44:20.677123Z"
        },
        "tags": [],
        "id": "175839a9-0039-4ca8-bfb1-ecfc5aa16e47",
        "outputId": "7111ba03-3dc9-47ed-ccb7-1174c9bf1ac0",
        "colab": {
          "base_uri": "https://localhost:8080/",
          "height": 488
        }
      },
      "outputs": [
        {
          "output_type": "execute_result",
          "data": {
            "text/plain": [
              "    annotation_sequence  feat_A  feat_C  feat_D  feat_E  feat_F  feat_G  \\\n",
              "0                     M   False   False   False   False   False   False   \n",
              "1                     A    True   False   False   False   False   False   \n",
              "2                     A    True   False   False   False   False   False   \n",
              "3                     S   False   False   False   False   False   False   \n",
              "4                     V   False   False   False   False   False   False   \n",
              "..                  ...     ...     ...     ...     ...     ...     ...   \n",
              "474                   L   False   False   False   False   False   False   \n",
              "475                   P   False   False   False   False   False   False   \n",
              "476                   Q   False   False   False   False   False   False   \n",
              "477                   E   False   False   False    True   False   False   \n",
              "478                   N   False   False   False   False   False   False   \n",
              "\n",
              "     feat_H  feat_I  feat_K  ...  feat_DSSP_9  feat_DSSP_10  feat_DSSP_11  \\\n",
              "0     False   False   False  ...          0.0             0           0.0   \n",
              "1     False   False   False  ...         -0.0             2          -0.0   \n",
              "2     False   False   False  ...         -0.1             0           0.0   \n",
              "3     False   False   False  ...         -0.1             0           0.0   \n",
              "4     False   False   False  ...          0.0             0           0.0   \n",
              "..      ...     ...     ...  ...          ...           ...           ...   \n",
              "474   False   False   False  ...         -0.5            -3          -0.3   \n",
              "475   False   False   False  ...         -0.1             0           0.0   \n",
              "476   False   False   False  ...         -0.0             0           0.0   \n",
              "477   False   False   False  ...          0.0             0           0.0   \n",
              "478   False   False   False  ...          0.0             0           0.0   \n",
              "\n",
              "     feat_DSSP_12  feat_DSSP_13    coord_X    coord_Y    coord_Z        entry  \\\n",
              "0               0           0.0  33.116001  37.023998  38.417000   QCR1_HUMAN   \n",
              "1               0           0.0  35.849998  34.841000  40.185001   QCR1_HUMAN   \n",
              "2               2          -0.0  37.087002  31.719999  40.547001   QCR1_HUMAN   \n",
              "3              -2          -0.0  38.095001  28.951000  42.321999   QCR1_HUMAN   \n",
              "4               0           0.0  41.435001  27.417000  43.703999   QCR1_HUMAN   \n",
              "..            ...           ...        ...        ...        ...          ...   \n",
              "474            -3          -0.0  47.813999   7.569000 -27.368999  PDE7A_HUMAN   \n",
              "475            -3          -0.0  50.228001   8.068000 -30.333000  PDE7A_HUMAN   \n",
              "476             0           0.0  51.507999   4.896000 -31.959999  PDE7A_HUMAN   \n",
              "477             0           0.0  54.845001   6.372000 -33.125000  PDE7A_HUMAN   \n",
              "478             0           0.0  57.796001   4.322000 -34.160000  PDE7A_HUMAN   \n",
              "\n",
              "     entry_index  \n",
              "0              0  \n",
              "1              1  \n",
              "2              2  \n",
              "3              3  \n",
              "4              4  \n",
              "..           ...  \n",
              "474          474  \n",
              "475          475  \n",
              "476          476  \n",
              "477          477  \n",
              "478          478  \n",
              "\n",
              "[107624 rows x 49 columns]"
            ],
            "text/html": [
              "\n",
              "  <div id=\"df-2e16eb37-a7c3-4c35-8560-eb19061b496b\">\n",
              "    <div class=\"colab-df-container\">\n",
              "      <div>\n",
              "<style scoped>\n",
              "    .dataframe tbody tr th:only-of-type {\n",
              "        vertical-align: middle;\n",
              "    }\n",
              "\n",
              "    .dataframe tbody tr th {\n",
              "        vertical-align: top;\n",
              "    }\n",
              "\n",
              "    .dataframe thead th {\n",
              "        text-align: right;\n",
              "    }\n",
              "</style>\n",
              "<table border=\"1\" class=\"dataframe\">\n",
              "  <thead>\n",
              "    <tr style=\"text-align: right;\">\n",
              "      <th></th>\n",
              "      <th>annotation_sequence</th>\n",
              "      <th>feat_A</th>\n",
              "      <th>feat_C</th>\n",
              "      <th>feat_D</th>\n",
              "      <th>feat_E</th>\n",
              "      <th>feat_F</th>\n",
              "      <th>feat_G</th>\n",
              "      <th>feat_H</th>\n",
              "      <th>feat_I</th>\n",
              "      <th>feat_K</th>\n",
              "      <th>...</th>\n",
              "      <th>feat_DSSP_9</th>\n",
              "      <th>feat_DSSP_10</th>\n",
              "      <th>feat_DSSP_11</th>\n",
              "      <th>feat_DSSP_12</th>\n",
              "      <th>feat_DSSP_13</th>\n",
              "      <th>coord_X</th>\n",
              "      <th>coord_Y</th>\n",
              "      <th>coord_Z</th>\n",
              "      <th>entry</th>\n",
              "      <th>entry_index</th>\n",
              "    </tr>\n",
              "  </thead>\n",
              "  <tbody>\n",
              "    <tr>\n",
              "      <th>0</th>\n",
              "      <td>M</td>\n",
              "      <td>False</td>\n",
              "      <td>False</td>\n",
              "      <td>False</td>\n",
              "      <td>False</td>\n",
              "      <td>False</td>\n",
              "      <td>False</td>\n",
              "      <td>False</td>\n",
              "      <td>False</td>\n",
              "      <td>False</td>\n",
              "      <td>...</td>\n",
              "      <td>0.0</td>\n",
              "      <td>0</td>\n",
              "      <td>0.0</td>\n",
              "      <td>0</td>\n",
              "      <td>0.0</td>\n",
              "      <td>33.116001</td>\n",
              "      <td>37.023998</td>\n",
              "      <td>38.417000</td>\n",
              "      <td>QCR1_HUMAN</td>\n",
              "      <td>0</td>\n",
              "    </tr>\n",
              "    <tr>\n",
              "      <th>1</th>\n",
              "      <td>A</td>\n",
              "      <td>True</td>\n",
              "      <td>False</td>\n",
              "      <td>False</td>\n",
              "      <td>False</td>\n",
              "      <td>False</td>\n",
              "      <td>False</td>\n",
              "      <td>False</td>\n",
              "      <td>False</td>\n",
              "      <td>False</td>\n",
              "      <td>...</td>\n",
              "      <td>-0.0</td>\n",
              "      <td>2</td>\n",
              "      <td>-0.0</td>\n",
              "      <td>0</td>\n",
              "      <td>0.0</td>\n",
              "      <td>35.849998</td>\n",
              "      <td>34.841000</td>\n",
              "      <td>40.185001</td>\n",
              "      <td>QCR1_HUMAN</td>\n",
              "      <td>1</td>\n",
              "    </tr>\n",
              "    <tr>\n",
              "      <th>2</th>\n",
              "      <td>A</td>\n",
              "      <td>True</td>\n",
              "      <td>False</td>\n",
              "      <td>False</td>\n",
              "      <td>False</td>\n",
              "      <td>False</td>\n",
              "      <td>False</td>\n",
              "      <td>False</td>\n",
              "      <td>False</td>\n",
              "      <td>False</td>\n",
              "      <td>...</td>\n",
              "      <td>-0.1</td>\n",
              "      <td>0</td>\n",
              "      <td>0.0</td>\n",
              "      <td>2</td>\n",
              "      <td>-0.0</td>\n",
              "      <td>37.087002</td>\n",
              "      <td>31.719999</td>\n",
              "      <td>40.547001</td>\n",
              "      <td>QCR1_HUMAN</td>\n",
              "      <td>2</td>\n",
              "    </tr>\n",
              "    <tr>\n",
              "      <th>3</th>\n",
              "      <td>S</td>\n",
              "      <td>False</td>\n",
              "      <td>False</td>\n",
              "      <td>False</td>\n",
              "      <td>False</td>\n",
              "      <td>False</td>\n",
              "      <td>False</td>\n",
              "      <td>False</td>\n",
              "      <td>False</td>\n",
              "      <td>False</td>\n",
              "      <td>...</td>\n",
              "      <td>-0.1</td>\n",
              "      <td>0</td>\n",
              "      <td>0.0</td>\n",
              "      <td>-2</td>\n",
              "      <td>-0.0</td>\n",
              "      <td>38.095001</td>\n",
              "      <td>28.951000</td>\n",
              "      <td>42.321999</td>\n",
              "      <td>QCR1_HUMAN</td>\n",
              "      <td>3</td>\n",
              "    </tr>\n",
              "    <tr>\n",
              "      <th>4</th>\n",
              "      <td>V</td>\n",
              "      <td>False</td>\n",
              "      <td>False</td>\n",
              "      <td>False</td>\n",
              "      <td>False</td>\n",
              "      <td>False</td>\n",
              "      <td>False</td>\n",
              "      <td>False</td>\n",
              "      <td>False</td>\n",
              "      <td>False</td>\n",
              "      <td>...</td>\n",
              "      <td>0.0</td>\n",
              "      <td>0</td>\n",
              "      <td>0.0</td>\n",
              "      <td>0</td>\n",
              "      <td>0.0</td>\n",
              "      <td>41.435001</td>\n",
              "      <td>27.417000</td>\n",
              "      <td>43.703999</td>\n",
              "      <td>QCR1_HUMAN</td>\n",
              "      <td>4</td>\n",
              "    </tr>\n",
              "    <tr>\n",
              "      <th>...</th>\n",
              "      <td>...</td>\n",
              "      <td>...</td>\n",
              "      <td>...</td>\n",
              "      <td>...</td>\n",
              "      <td>...</td>\n",
              "      <td>...</td>\n",
              "      <td>...</td>\n",
              "      <td>...</td>\n",
              "      <td>...</td>\n",
              "      <td>...</td>\n",
              "      <td>...</td>\n",
              "      <td>...</td>\n",
              "      <td>...</td>\n",
              "      <td>...</td>\n",
              "      <td>...</td>\n",
              "      <td>...</td>\n",
              "      <td>...</td>\n",
              "      <td>...</td>\n",
              "      <td>...</td>\n",
              "      <td>...</td>\n",
              "      <td>...</td>\n",
              "    </tr>\n",
              "    <tr>\n",
              "      <th>474</th>\n",
              "      <td>L</td>\n",
              "      <td>False</td>\n",
              "      <td>False</td>\n",
              "      <td>False</td>\n",
              "      <td>False</td>\n",
              "      <td>False</td>\n",
              "      <td>False</td>\n",
              "      <td>False</td>\n",
              "      <td>False</td>\n",
              "      <td>False</td>\n",
              "      <td>...</td>\n",
              "      <td>-0.5</td>\n",
              "      <td>-3</td>\n",
              "      <td>-0.3</td>\n",
              "      <td>-3</td>\n",
              "      <td>-0.0</td>\n",
              "      <td>47.813999</td>\n",
              "      <td>7.569000</td>\n",
              "      <td>-27.368999</td>\n",
              "      <td>PDE7A_HUMAN</td>\n",
              "      <td>474</td>\n",
              "    </tr>\n",
              "    <tr>\n",
              "      <th>475</th>\n",
              "      <td>P</td>\n",
              "      <td>False</td>\n",
              "      <td>False</td>\n",
              "      <td>False</td>\n",
              "      <td>False</td>\n",
              "      <td>False</td>\n",
              "      <td>False</td>\n",
              "      <td>False</td>\n",
              "      <td>False</td>\n",
              "      <td>False</td>\n",
              "      <td>...</td>\n",
              "      <td>-0.1</td>\n",
              "      <td>0</td>\n",
              "      <td>0.0</td>\n",
              "      <td>-3</td>\n",
              "      <td>-0.0</td>\n",
              "      <td>50.228001</td>\n",
              "      <td>8.068000</td>\n",
              "      <td>-30.333000</td>\n",
              "      <td>PDE7A_HUMAN</td>\n",
              "      <td>475</td>\n",
              "    </tr>\n",
              "    <tr>\n",
              "      <th>476</th>\n",
              "      <td>Q</td>\n",
              "      <td>False</td>\n",
              "      <td>False</td>\n",
              "      <td>False</td>\n",
              "      <td>False</td>\n",
              "      <td>False</td>\n",
              "      <td>False</td>\n",
              "      <td>False</td>\n",
              "      <td>False</td>\n",
              "      <td>False</td>\n",
              "      <td>...</td>\n",
              "      <td>-0.0</td>\n",
              "      <td>0</td>\n",
              "      <td>0.0</td>\n",
              "      <td>0</td>\n",
              "      <td>0.0</td>\n",
              "      <td>51.507999</td>\n",
              "      <td>4.896000</td>\n",
              "      <td>-31.959999</td>\n",
              "      <td>PDE7A_HUMAN</td>\n",
              "      <td>476</td>\n",
              "    </tr>\n",
              "    <tr>\n",
              "      <th>477</th>\n",
              "      <td>E</td>\n",
              "      <td>False</td>\n",
              "      <td>False</td>\n",
              "      <td>False</td>\n",
              "      <td>True</td>\n",
              "      <td>False</td>\n",
              "      <td>False</td>\n",
              "      <td>False</td>\n",
              "      <td>False</td>\n",
              "      <td>False</td>\n",
              "      <td>...</td>\n",
              "      <td>0.0</td>\n",
              "      <td>0</td>\n",
              "      <td>0.0</td>\n",
              "      <td>0</td>\n",
              "      <td>0.0</td>\n",
              "      <td>54.845001</td>\n",
              "      <td>6.372000</td>\n",
              "      <td>-33.125000</td>\n",
              "      <td>PDE7A_HUMAN</td>\n",
              "      <td>477</td>\n",
              "    </tr>\n",
              "    <tr>\n",
              "      <th>478</th>\n",
              "      <td>N</td>\n",
              "      <td>False</td>\n",
              "      <td>False</td>\n",
              "      <td>False</td>\n",
              "      <td>False</td>\n",
              "      <td>False</td>\n",
              "      <td>False</td>\n",
              "      <td>False</td>\n",
              "      <td>False</td>\n",
              "      <td>False</td>\n",
              "      <td>...</td>\n",
              "      <td>0.0</td>\n",
              "      <td>0</td>\n",
              "      <td>0.0</td>\n",
              "      <td>0</td>\n",
              "      <td>0.0</td>\n",
              "      <td>57.796001</td>\n",
              "      <td>4.322000</td>\n",
              "      <td>-34.160000</td>\n",
              "      <td>PDE7A_HUMAN</td>\n",
              "      <td>478</td>\n",
              "    </tr>\n",
              "  </tbody>\n",
              "</table>\n",
              "<p>107624 rows × 49 columns</p>\n",
              "</div>\n",
              "      <button class=\"colab-df-convert\" onclick=\"convertToInteractive('df-2e16eb37-a7c3-4c35-8560-eb19061b496b')\"\n",
              "              title=\"Convert this dataframe to an interactive table.\"\n",
              "              style=\"display:none;\">\n",
              "        \n",
              "  <svg xmlns=\"http://www.w3.org/2000/svg\" height=\"24px\"viewBox=\"0 0 24 24\"\n",
              "       width=\"24px\">\n",
              "    <path d=\"M0 0h24v24H0V0z\" fill=\"none\"/>\n",
              "    <path d=\"M18.56 5.44l.94 2.06.94-2.06 2.06-.94-2.06-.94-.94-2.06-.94 2.06-2.06.94zm-11 1L8.5 8.5l.94-2.06 2.06-.94-2.06-.94L8.5 2.5l-.94 2.06-2.06.94zm10 10l.94 2.06.94-2.06 2.06-.94-2.06-.94-.94-2.06-.94 2.06-2.06.94z\"/><path d=\"M17.41 7.96l-1.37-1.37c-.4-.4-.92-.59-1.43-.59-.52 0-1.04.2-1.43.59L10.3 9.45l-7.72 7.72c-.78.78-.78 2.05 0 2.83L4 21.41c.39.39.9.59 1.41.59.51 0 1.02-.2 1.41-.59l7.78-7.78 2.81-2.81c.8-.78.8-2.07 0-2.86zM5.41 20L4 18.59l7.72-7.72 1.47 1.35L5.41 20z\"/>\n",
              "  </svg>\n",
              "      </button>\n",
              "      \n",
              "  <style>\n",
              "    .colab-df-container {\n",
              "      display:flex;\n",
              "      flex-wrap:wrap;\n",
              "      gap: 12px;\n",
              "    }\n",
              "\n",
              "    .colab-df-convert {\n",
              "      background-color: #E8F0FE;\n",
              "      border: none;\n",
              "      border-radius: 50%;\n",
              "      cursor: pointer;\n",
              "      display: none;\n",
              "      fill: #1967D2;\n",
              "      height: 32px;\n",
              "      padding: 0 0 0 0;\n",
              "      width: 32px;\n",
              "    }\n",
              "\n",
              "    .colab-df-convert:hover {\n",
              "      background-color: #E2EBFA;\n",
              "      box-shadow: 0px 1px 2px rgba(60, 64, 67, 0.3), 0px 1px 3px 1px rgba(60, 64, 67, 0.15);\n",
              "      fill: #174EA6;\n",
              "    }\n",
              "\n",
              "    [theme=dark] .colab-df-convert {\n",
              "      background-color: #3B4455;\n",
              "      fill: #D2E3FC;\n",
              "    }\n",
              "\n",
              "    [theme=dark] .colab-df-convert:hover {\n",
              "      background-color: #434B5C;\n",
              "      box-shadow: 0px 1px 3px 1px rgba(0, 0, 0, 0.15);\n",
              "      filter: drop-shadow(0px 1px 2px rgba(0, 0, 0, 0.3));\n",
              "      fill: #FFFFFF;\n",
              "    }\n",
              "  </style>\n",
              "\n",
              "      <script>\n",
              "        const buttonEl =\n",
              "          document.querySelector('#df-2e16eb37-a7c3-4c35-8560-eb19061b496b button.colab-df-convert');\n",
              "        buttonEl.style.display =\n",
              "          google.colab.kernel.accessAllowed ? 'block' : 'none';\n",
              "\n",
              "        async function convertToInteractive(key) {\n",
              "          const element = document.querySelector('#df-2e16eb37-a7c3-4c35-8560-eb19061b496b');\n",
              "          const dataTable =\n",
              "            await google.colab.kernel.invokeFunction('convertToInteractive',\n",
              "                                                     [key], {});\n",
              "          if (!dataTable) return;\n",
              "\n",
              "          const docLinkHtml = 'Like what you see? Visit the ' +\n",
              "            '<a target=\"_blank\" href=https://colab.research.google.com/notebooks/data_table.ipynb>data table notebook</a>'\n",
              "            + ' to learn more about interactive tables.';\n",
              "          element.innerHTML = '';\n",
              "          dataTable['output_type'] = 'display_data';\n",
              "          await google.colab.output.renderOutput(dataTable, element);\n",
              "          const docLink = document.createElement('div');\n",
              "          docLink.innerHTML = docLinkHtml;\n",
              "          element.appendChild(docLink);\n",
              "        }\n",
              "      </script>\n",
              "    </div>\n",
              "  </div>\n",
              "  "
            ]
          },
          "metadata": {},
          "execution_count": 159
        }
      ],
      "source": [
        "df_test = pd.read_csv(\"/content/drive/MyDrive/af2_dataset_testset_unlabeled.csv.gz\", index_col=0)\n",
        "df_test"
      ]
    },
    {
      "cell_type": "code",
      "execution_count": null,
      "id": "e40c7d36",
      "metadata": {
        "id": "e40c7d36"
      },
      "outputs": [],
      "source": [
        "y_test_submission = clf.predict(df_test[without_categorical_columns])"
      ]
    },
    {
      "cell_type": "code",
      "execution_count": null,
      "id": "e01d0dda",
      "metadata": {
        "id": "e01d0dda"
      },
      "outputs": [],
      "source": [
        "s = pd.Series(y_test_submission).astype(bool)\n",
        "s.name = \"Predicted\"\n",
        "s.to_csv(\"submission.csv\")"
      ]
    },
    {
      "cell_type": "code",
      "source": [
        "s.head()"
      ],
      "metadata": {
        "colab": {
          "base_uri": "https://localhost:8080/"
        },
        "id": "UWvLrrFHkFjb",
        "outputId": "5fd67c79-2ef1-4bfe-e1f1-08c4c4cf6013"
      },
      "id": "UWvLrrFHkFjb",
      "execution_count": null,
      "outputs": [
        {
          "output_type": "execute_result",
          "data": {
            "text/plain": [
              "0    False\n",
              "1    False\n",
              "2    False\n",
              "3    False\n",
              "4    False\n",
              "Name: Predicted, dtype: bool"
            ]
          },
          "metadata": {},
          "execution_count": 165
        }
      ]
    },
    {
      "cell_type": "code",
      "execution_count": null,
      "id": "d57de7f1",
      "metadata": {
        "id": "d57de7f1",
        "colab": {
          "base_uri": "https://localhost:8080/"
        },
        "outputId": "3118373e-ff76-49e1-9bcc-997a6aa03fb2"
      },
      "outputs": [
        {
          "output_type": "stream",
          "name": "stdout",
          "text": [
            "Number of Negative Case: 107390\n",
            "Number of Positive Case: 234\n",
            "0.002174236229837211\n"
          ]
        }
      ],
      "source": [
        "zeros_pred = (s.iloc[:] == False).sum()\n",
        "ones_pred = (s.iloc[:] == True).sum()\n",
        "\n",
        "print(f\"Number of Negative Case: {zeros_pred}\")\n",
        "print(f\"Number of Positive Case: {ones_pred}\")\n",
        "\n",
        "rate_of_pos = ones_pred/(zeros_pred+ones_pred)\n",
        "print(rate_of_pos)  # close to the labelled dataset as it is "
      ]
    }
  ],
  "metadata": {
    "kernelspec": {
      "display_name": "Python 3 (ipykernel)",
      "language": "python",
      "name": "python3"
    },
    "language_info": {
      "codemirror_mode": {
        "name": "ipython",
        "version": 3
      },
      "file_extension": ".py",
      "mimetype": "text/x-python",
      "name": "python",
      "nbconvert_exporter": "python",
      "pygments_lexer": "ipython3",
      "version": "3.10.6"
    },
    "colab": {
      "provenance": [],
      "include_colab_link": true
    },
    "gpuClass": "standard"
  },
  "nbformat": 4,
  "nbformat_minor": 5
}